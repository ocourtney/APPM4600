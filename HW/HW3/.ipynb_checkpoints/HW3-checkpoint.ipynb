{
 "cells": [
  {
   "cell_type": "code",
   "execution_count": 3,
   "id": "410264a9-c92d-4f70-b1d8-3d68de18470f",
   "metadata": {},
   "outputs": [],
   "source": [
    "# import libraries\n",
    "import numpy as np\n",
    "import math\n",
    "from matplotlib import pyplot as plt"
   ]
  },
  {
   "cell_type": "code",
   "execution_count": 4,
   "id": "07288132-107f-40ee-a4ce-842725da917f",
   "metadata": {},
   "outputs": [],
   "source": [
    "#functions\n",
    "def driver(f,tol,a,b):\n",
    "\n",
    "    [astar,ier,count] = bisection(f,a,b,tol)\n",
    "    print('the approximate root is',astar)\n",
    "    print('the error message reads:',ier)\n",
    "    print('f(astar) =', f(astar))\n",
    "    print('number of iterations:', count)\n",
    "\n",
    "\n",
    "\n",
    "\n",
    "def bisection(f,a,b,tol):\n",
    "    \n",
    "#    Inputs:\n",
    "#     f,a,b       - function and endpoints of initial interval\n",
    "#      tol  - bisection stops when interval length < tol\n",
    "\n",
    "#    Returns:\n",
    "#      astar - approximation of root\n",
    "#      ier   - error message\n",
    "#            - ier = 1 => Failed\n",
    "#            - ier = 0 == success\n",
    "\n",
    "#     first verify there is a root we can find in the interval \n",
    "\n",
    "    fa = f(a)\n",
    "    fb = f(b);\n",
    "    if (fa*fb>0):\n",
    "        ier = 1\n",
    "        astar = a\n",
    "        return [astar, ier, count]\n",
    "\n",
    "#   verify end points are not a root \n",
    "    if (fa == 0):\n",
    "        astar = a\n",
    "        ier =0\n",
    "        return [astar, ier, count]\n",
    "\n",
    "    if (fb ==0):\n",
    "        astar = b\n",
    "        ier = 0\n",
    "        return [astar, ier, count]\n",
    "\n",
    "    count = 0\n",
    "    d = 0.5*(a+b)\n",
    "    while (abs(d-a)> tol):\n",
    "        fd = f(d)\n",
    "        if (fd ==0):\n",
    "            astar = d\n",
    "            ier = 0\n",
    "            return [astar, ier, count]\n",
    "        if (fa*fd<0):\n",
    "            b = d\n",
    "        else:\n",
    "            a = d\n",
    "            fa = fd\n",
    "        d = 0.5*(a+b)\n",
    "        count = count +1\n",
    "#      print('abs(d-a) = ', abs(d-a))\n",
    "      \n",
    "    astar = d\n",
    "    ier = 0\n",
    "    return [astar, ier, count]"
   ]
  },
  {
   "cell_type": "code",
   "execution_count": 5,
   "id": "4139e770-15ef-47db-a93e-25129f4dc140",
   "metadata": {},
   "outputs": [
    {
     "name": "stdout",
     "output_type": "stream",
     "text": [
      "the approximate root is 0.8878622125563768\n",
      "the error message reads: 0\n",
      "f(astar) = 1.349093503577592e-09\n",
      "number of iterations: 28\n"
     ]
    }
   ],
   "source": [
    "#1c\n",
    "driver(lambda x: 2*x - np.sin(x) - 1, 0.5e-8, 0, np.pi/2)"
   ]
  },
  {
   "cell_type": "code",
   "execution_count": 6,
   "id": "8f701933-80ea-4fdb-9764-691101e6d4ce",
   "metadata": {},
   "outputs": [
    {
     "name": "stdout",
     "output_type": "stream",
     "text": [
      "the approximate root is 5.000073242187501\n",
      "the error message reads: 0\n",
      "f(astar) = 6.065292655789404e-38\n",
      "number of iterations: 11\n"
     ]
    }
   ],
   "source": [
    "#2a\n",
    "driver(lambda x: (x-5)**9, 1e-4, 4.82, 5.2)"
   ]
  },
  {
   "cell_type": "code",
   "execution_count": 7,
   "id": "98229600-eff1-4517-aadb-bfeed0a2a8b9",
   "metadata": {},
   "outputs": [
    {
     "name": "stdout",
     "output_type": "stream",
     "text": [
      "the approximate root is 5.12875\n",
      "the error message reads: 0\n",
      "f(astar) = 0.0\n",
      "number of iterations: 3\n"
     ]
    }
   ],
   "source": [
    "#2b\n",
    "f = lambda x: x**9 - 45*x**8 + 900*x**7 - 10500*x**6 + 78750*x**5 - 393750*x**4 + 1312500*x**3 - 2812500*x**2 + 3515625*x - 1953125\n",
    "driver(f, 1e-4, 4.82, 5.2)"
   ]
  },
  {
   "cell_type": "code",
   "execution_count": 8,
   "id": "40be2ab6-4651-4c8b-b2d1-660d8608ece6",
   "metadata": {},
   "outputs": [
    {
     "name": "stdout",
     "output_type": "stream",
     "text": [
      "the approximate root is 1.378662109375\n",
      "the error message reads: 0\n",
      "f(astar) = -0.0009021193400258198\n",
      "number of iterations: 11\n"
     ]
    }
   ],
   "source": [
    "#3b\n",
    "driver(lambda x: x**3 + x - 4, 1e-3, 1, 4)"
   ]
  },
  {
   "cell_type": "code",
   "execution_count": 9,
   "id": "8fa0f515-34a4-4262-9bcb-ea881c6bf4a3",
   "metadata": {},
   "outputs": [
    {
     "data": {
      "image/png": "[encoded data removed]",
      "text/plain": [
       "<Figure size 432x288 with 1 Axes>"
      ]
     },
     "metadata": {
      "needs_background": "light"
     },
     "output_type": "display_data"
    }
   ],
   "source": [
    "#5\n",
    "x = np.arange(-2, 2*(np.pi), 0.1)\n",
    "y = x - 4*np.sin(2*x) - 3\n",
    "plt.title(\"x - 4sin(2x)-3\")\n",
    "plt.ylabel(\"f(x)\")\n",
    "plt.xlabel(\"x\")\n",
    "plt.plot(x,y)\n",
    "plt.show()"
   ]
  },
  {
   "cell_type": "code",
   "execution_count": 10,
   "id": "77c219e3-e1f1-4836-a9ca-aa7e44863c34",
   "metadata": {},
   "outputs": [],
   "source": [
    "#5\n",
    "def driver():\n",
    "    # test functions\n",
    "    f1 = lambda x: -np.sin(2*x) + (5*x)/4 - 3/4 # fixed point is alpha1 = 1.4987....\n",
    "    Nmax = 100\n",
    "    tol = 0.5e-10\n",
    "    \n",
    "    # test root1 '''\n",
    "    x0 = -0.9\n",
    "    [xstar,ier] = fixedpt(f1,x0,tol,Nmax)\n",
    "    print('the approximate fixed point first is:',xstar)\n",
    "    print('f1(xstar):',f1(xstar))\n",
    "    print('Error message reads:',ier)\n",
    "    #test root2 '''\n",
    "    x0 = -0.3\n",
    "    [xstar,ier] = fixedpt(f1,x0,tol,Nmax)\n",
    "    print('the approximate fixed point second is:',xstar)\n",
    "    print('f1(xstar):',f1(xstar))\n",
    "    print('Error message reads:',ier)\n",
    "    # test root3 '''\n",
    "    x0 = 1.3\n",
    "    [xstar,ier] = fixedpt(f1,x0,tol,Nmax)\n",
    "    print('the approximate fixed point third is:',xstar)\n",
    "    print('f1(xstar):',f1(xstar))\n",
    "    print('Error message reads:',ier)\n",
    "    # test root4 '''\n",
    "    x0 = 3.0\n",
    "    [xstar,ier] = fixedpt(f1,x0,tol,Nmax)\n",
    "    print('the approximate fixed point fourth is:',xstar)\n",
    "    print('f1(xstar):',f1(xstar))\n",
    "    print('Error message reads:',ier)\n",
    "    # test root5 '''\n",
    "    x0 = 3.9\n",
    "    [xstar,ier] = fixedpt(f1,x0,tol,Nmax)\n",
    "    print('the approximate fixed point fifth is:',xstar)\n",
    "    print('f1(xstar):',f1(xstar))\n",
    "    print('Error message reads:',ier)"
   ]
  },
  {
   "cell_type": "code",
   "execution_count": 11,
   "id": "f4dbe715-5a02-488b-8329-623c53fe0aba",
   "metadata": {},
   "outputs": [
    {
     "name": "stdout",
     "output_type": "stream",
     "text": [
      "the approximate fixed point first is: -2761829351.191013\n",
      "f1(xstar): -3452286689.3512335\n",
      "Error message reads: 1\n",
      "the approximate fixed point second is: -0.5444424006892925\n",
      "f1(xstar): -0.5444424006834742\n",
      "Error message reads: 0\n",
      "the approximate fixed point third is: -6729218921.244662\n",
      "f1(xstar): -8411523652.747464\n",
      "Error message reads: 1\n",
      "the approximate fixed point fourth is: 3.161826486568711\n",
      "f1(xstar): 3.1618264865393995\n",
      "Error message reads: 0\n",
      "the approximate fixed point fifth is: 3.161826486534898\n",
      "f1(xstar): 3.161826486564704\n",
      "Error message reads: 0\n"
     ]
    }
   ],
   "source": [
    "#5 \n",
    "# define routines\n",
    "def fixedpt(f,x0,tol,Nmax):\n",
    "    ''' x0 = initial guess'''\n",
    "    ''' Nmax = max number of iterations'''\n",
    "    ''' tol = stopping tolerance'''\n",
    "    count = 0\n",
    "    while (count <Nmax):\n",
    "        count = count +1\n",
    "        x1 = f(x0)\n",
    "        if (abs(x1-x0) <tol):\n",
    "            xstar = x1\n",
    "            ier = 0\n",
    "            return [xstar,ier]\n",
    "        x0 = x1\n",
    "    xstar = x1\n",
    "    ier = 1\n",
    "    return [xstar, ier]\n",
    "\n",
    "driver()"
   ]
  }
 ],
 "metadata": {
  "kernelspec": {
   "display_name": "Python 3 (ipykernel)",
   "language": "python",
   "name": "python3"
  },
  "language_info": {
   "codemirror_mode": {
    "name": "ipython",
    "version": 3
   },
   "file_extension": ".py",
   "mimetype": "text/x-python",
   "name": "python",
   "nbconvert_exporter": "python",
   "pygments_lexer": "ipython3",
   "version": "3.9.12"
  }
 },
 "nbformat": 4,
 "nbformat_minor": 5
}
