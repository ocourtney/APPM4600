{
 "cells": [
  {
   "cell_type": "code",
   "execution_count": 1,
   "id": "98ae7191-84c1-4cea-ab04-ab2058e4c0c3",
   "metadata": {},
   "outputs": [],
   "source": [
    "import numpy as np\n",
    "import math\n",
    "from matplotlib import pyplot as plt\n",
    "from scipy import special"
   ]
  },
  {
   "cell_type": "code",
   "execution_count": 2,
   "id": "379fa121-be83-4309-a16b-d518df2342ac",
   "metadata": {},
   "outputs": [],
   "source": [
    "#functions\n",
    "def bisectionDriver(f,tol,a,b):\n",
    "\n",
    "    [astar,ier,count] = bisection(f,a,b,tol)\n",
    "    print('the approximate root is',astar)\n",
    "    print('the error message reads:',ier)\n",
    "    print('f(astar) =', f(astar))\n",
    "    print('number of iterations:', count)\n",
    "\n",
    "def bisection(f,a,b,tol):\n",
    "    \n",
    "#    Inputs:\n",
    "#     f,a,b       - function and endpoints of initial interval\n",
    "#      tol  - bisection stops when interval length < tol\n",
    "\n",
    "#    Returns:\n",
    "#      astar - approximation of root\n",
    "#      ier   - error message\n",
    "#            - ier = 1 => Failed\n",
    "#            - ier = 0 == success\n",
    "\n",
    "#     first verify there is a root we can find in the interval \n",
    "\n",
    "    fa = f(a)\n",
    "    fb = f(b);\n",
    "    if (fa*fb>0):\n",
    "        ier = 1\n",
    "        astar = a\n",
    "        return [astar, ier, count]\n",
    "\n",
    "#   verify end points are not a root \n",
    "    if (fa == 0):\n",
    "        astar = a\n",
    "        ier =0\n",
    "        return [astar, ier, count]\n",
    "\n",
    "    if (fb ==0):\n",
    "        astar = b\n",
    "        ier = 0\n",
    "        return [astar, ier, count]\n",
    "\n",
    "    count = 0\n",
    "    d = 0.5*(a+b)\n",
    "    while (abs(d-a)> tol):\n",
    "        fd = f(d)\n",
    "        if (fd ==0):\n",
    "            astar = d\n",
    "            ier = 0\n",
    "            return [astar, ier, count]\n",
    "        if (fa*fd<0):\n",
    "            b = d\n",
    "        else:\n",
    "            a = d\n",
    "            fa = fd\n",
    "        d = 0.5*(a+b)\n",
    "        count = count +1\n",
    "      \n",
    "    astar = d\n",
    "    ier = 0\n",
    "    return [astar, ier, count]\n",
    "\n",
    "\n",
    "def newtonDriver(f, fp, p0, tol, Nmax):\n",
    "    \n",
    "    (p,pstar,info,it,er_newt) = newton(f,fp,p0,tol,Nmax)\n",
    "    \n",
    "    print('the approximate root is', '%16.16e' % pstar)\n",
    "    print('the error message reads:', '%d' % info)\n",
    "    print('Number of iterations:', '%d' % it)\n",
    "    \n",
    "def newton(f,fp,p0,tol,Nmax):\n",
    "    \"\"\"\n",
    "    Newton iteration.\n",
    "    Inputs:\n",
    "    f,fp - function and derivative\n",
    "    p0 - initial guess for root\n",
    "    tol - iteration stops when p_n,p_{n+1} are within tol\n",
    "    Nmax - max number of iterations\n",
    "    Returns:\n",
    "    p - an array of the iterates\n",
    "    pstar - the last iterate\n",
    "    info - success message\n",
    "    - 0 if we met tol\n",
    "    - 1 if we hit Nmax iterations (fail)\n",
    "    \"\"\"\n",
    "    p = np.zeros(Nmax+1);\n",
    "    er_newt = []\n",
    "    #p[0] = p0\n",
    "    \n",
    "    for it in range(Nmax):\n",
    "        p1 = p0-f(p0)/fp(p0) #root of tangent line\n",
    "        p[it] = p1\n",
    "        er_newt.append(abs(p1-p0))\n",
    "        \n",
    "        if (abs(p1-p0) < tol):\n",
    "            pstar = p1\n",
    "            info = 0\n",
    "            return [p,pstar,info,it+1,er_newt]\n",
    "        p0 = p1 #reset for next iteration\n",
    "\n",
    "    pstar = p1\n",
    "    info = 1\n",
    "    return [p,pstar,info,it,er_newt]\n",
    "\n",
    "\n",
    "\n",
    "def secantDriver(f,a,b,tol,Nmax):\n",
    "\n",
    "    [p,star,ier,count, er_sec] = secant(f,a,b,tol,Nmax)\n",
    "    print('the approximate root is',star)\n",
    "    print('the error message reads:',ier)\n",
    "    print('f(astar) =', f(star))\n",
    "    print('number of iterations:', count)\n",
    "\n",
    "def secant(f,a,b,tol,Nmax):\n",
    "\n",
    "#     first verify there is a root we can find in the interval \n",
    "    count = 0\n",
    "    er_sec = []\n",
    "    #er_sec.append(abs(a-b))\n",
    "    p = np.zeros(Nmax+1); \n",
    "    p[0] = b\n",
    "    \n",
    "    if abs(f(a)) == 0:\n",
    "        star = a\n",
    "        ier = 0\n",
    "        return [p, star, ier, count, er_sec]\n",
    "    \n",
    "    fa = f(a)\n",
    "    fb = f(b)\n",
    "    \n",
    "    for i in range(1,Nmax):\n",
    "        if abs(fa-fb) == 0:\n",
    "            ier = 1\n",
    "            star = b\n",
    "            return [p, star, ier, i, er_sec]\n",
    "        \n",
    "        c = b - (fb*(b-a))/(fb - fa)\n",
    "        er_sec.append(c-b)\n",
    "        p[i] = c\n",
    "        \n",
    "        if abs(c-b) < tol:\n",
    "            star = c\n",
    "            ier = 0\n",
    "            \n",
    "            return [p, star, ier, i, er_sec]\n",
    "        \n",
    "        a = b\n",
    "        fa = fb\n",
    "        b = c\n",
    "        fb = f(c)\n",
    "        count = i\n",
    "        \n",
    "    star = c\n",
    "    ier = 1\n",
    "        \n",
    "    return [p, star, ier, count, er_sec]"
   ]
  },
  {
   "cell_type": "markdown",
   "id": "955600c9-b53e-4dbc-aaf0-e52b1481c239",
   "metadata": {},
   "source": [
    "## Problem 1\n",
    "### a)"
   ]
  },
  {
   "cell_type": "code",
   "execution_count": 3,
   "id": "d2d47770-0fb4-4483-a51e-7ede3914929e",
   "metadata": {},
   "outputs": [
    {
     "data": {
      "image/png": "[encoded data removed]",
      "text/plain": [
       "<Figure size 432x288 with 1 Axes>"
      ]
     },
     "metadata": {
      "needs_background": "light"
     },
     "output_type": "display_data"
    }
   ],
   "source": [
    "x0 = np.arange(0, 5, 0.1)\n",
    "x = x0/(2*math.sqrt((0.138*(10**(-6)))*5184000))\n",
    "f = 35*special.erf(x) -15\n",
    "plt.title(\"Soil Temperature vs Function of Depth\")\n",
    "plt.xlabel(\"Depth (meters)\")\n",
    "plt.ylabel(\"Temperature (C$ \\degree $)\")\n",
    "plt.plot(x,f)\n",
    "plt.show()"
   ]
  },
  {
   "cell_type": "markdown",
   "id": "bf14b5fe-26a9-4559-b8f4-bd0b616411d5",
   "metadata": {},
   "source": [
    "### b)"
   ]
  },
  {
   "cell_type": "code",
   "execution_count": 4,
   "id": "184f6377-c2f0-42d4-bf26-08a0cfe10beb",
   "metadata": {},
   "outputs": [
    {
     "name": "stdout",
     "output_type": "stream",
     "text": [
      "the approximate root is 0.40018624979326534\n",
      "the error message reads: 0\n",
      "f(astar) = 0.0\n",
      "number of iterations: 59\n"
     ]
    }
   ],
   "source": [
    "f = lambda x: 35*special.erf(x) -15\n",
    "a = 0\n",
    "b = 2.89663681\n",
    "tol = 10*(-13)\n",
    "\n",
    "bisectionDriver(f,a,b,tol)"
   ]
  },
  {
   "cell_type": "markdown",
   "id": "7df4fc63-57d9-4f4c-9339-964f3ad89f7e",
   "metadata": {},
   "source": [
    "### c)"
   ]
  },
  {
   "cell_type": "code",
   "execution_count": 8,
   "id": "71c9beab-9775-427e-b497-102c070e5569",
   "metadata": {},
   "outputs": [
    {
     "name": "stdout",
     "output_type": "stream",
     "text": [
      "the approximate root is 4.0018624979326362e-01\n",
      "the error message reads: 0\n",
      "Number of iterations: 14\n"
     ]
    }
   ],
   "source": [
    "f = lambda x: 35*special.erf(x) -15\n",
    "fp = lambda x: (70*np.exp(-(x/(2*math.sqrt(alpha*t)))**2))/math.sqrt(np.pi)\n",
    "p0 = 0.01\n",
    "Nmax = 100\n",
    "tol = 10**(-13)\n",
    "alpha = (0.138*(10**(-6)))\n",
    "t = 5184000\n",
    "newtonDriver(f, fp, p0, tol, Nmax)"
   ]
  },
  {
   "cell_type": "code",
   "execution_count": 9,
   "id": "bf1de48a-42c9-4527-97bb-090b25677257",
   "metadata": {},
   "outputs": [
    {
     "name": "stdout",
     "output_type": "stream",
     "text": [
      "the approximate root is              nan\n",
      "the error message reads: 1\n",
      "Number of iterations: 99\n"
     ]
    },
    {
     "name": "stderr",
     "output_type": "stream",
     "text": [
      "/var/folders/59/fdfj046x7rd5r9hl09tnqvxh0000gn/T/ipykernel_6647/3584547364.py:91: RuntimeWarning: divide by zero encountered in double_scalars\n",
      "  p1 = p0-f(p0)/fp(p0) #root of tangent line\n",
      "/var/folders/59/fdfj046x7rd5r9hl09tnqvxh0000gn/T/ipykernel_6647/3584547364.py:91: RuntimeWarning: invalid value encountered in double_scalars\n",
      "  p1 = p0-f(p0)/fp(p0) #root of tangent line\n"
     ]
    }
   ],
   "source": [
    "#if p0 = 2.89663681 (x bar), we divide by zero from evaluating the derivative \n",
    "p0 = 2.89663681\n",
    "newtonDriver(f, fp, p0, tol, Nmax)"
   ]
  },
  {
   "cell_type": "markdown",
   "id": "4db1512d-edf3-48a7-85b5-e4613f27a5d6",
   "metadata": {},
   "source": [
    "## Problem 5"
   ]
  },
  {
   "cell_type": "code",
   "execution_count": 10,
   "id": "328ff0f9-fdca-4b4e-8cea-1860d1a1e566",
   "metadata": {},
   "outputs": [],
   "source": [
    "def newtonDriver(f, fp, p0, tol, Nmax):\n",
    "    \n",
    "    (p,pstar,info,it,er_newt) = newton(f,fp,p0,tol,Nmax)\n",
    "    \n",
    "    print('the approximate root is', '%16.16e' % pstar)\n",
    "    print('the error message reads:', '%d' % info)\n",
    "    print('Number of iterations:', '%d' % it)\n",
    "    return p, er_newt\n",
    "\n",
    "def secantDriver(f,a,b,tol,Nmax):\n",
    "\n",
    "    [p, star,ier,count, er_sec] = secant(f,a,b,tol,Nmax)\n",
    "    print('the approximate root is',star)\n",
    "    print('the error message reads:',ier)\n",
    "    print('f(astar) =', f(star))\n",
    "    print('number of iterations:', count)\n",
    "    return p, er_sec"
   ]
  },
  {
   "cell_type": "code",
   "execution_count": 11,
   "id": "2f9a5163-6b6f-44eb-b6ec-8377de941ec2",
   "metadata": {},
   "outputs": [
    {
     "name": "stdout",
     "output_type": "stream",
     "text": [
      "the approximate root is 1.1347241384015194e+00\n",
      "the error message reads: 0\n",
      "Number of iterations: 9\n"
     ]
    }
   ],
   "source": [
    "#newton\n",
    "f = lambda x: x**6 - x - 1\n",
    "fp = lambda x: 6*x**5 - 1\n",
    "p0 = 2\n",
    "Nmax = 10\n",
    "tol = 10**(-13)\n",
    "p_newt,er_newt = newtonDriver(f, fp, p0, tol, Nmax)"
   ]
  },
  {
   "cell_type": "code",
   "execution_count": 12,
   "id": "b5b95a9c-bd5a-47ac-a338-6fe37d124977",
   "metadata": {},
   "outputs": [
    {
     "name": "stdout",
     "output_type": "stream",
     "text": [
      "the approximate root is 1.1347241384015194\n",
      "the error message reads: 0\n",
      "f(astar) = -8.881784197001252e-16\n",
      "number of iterations: 9\n"
     ]
    }
   ],
   "source": [
    "#secant\n",
    "a = 2\n",
    "b = 1\n",
    "p_sec,er_sec = secantDriver(f,a,b,tol,Nmax)"
   ]
  },
  {
   "cell_type": "markdown",
   "id": "557b62f1-b383-4f09-8886-6606a17e6810",
   "metadata": {},
   "source": [
    "### a)"
   ]
  },
  {
   "cell_type": "code",
   "execution_count": 13,
   "id": "8e511542-fb73-413f-8b65-9b8b8be62e16",
   "metadata": {},
   "outputs": [
    {
     "name": "stdout",
     "output_type": "stream",
     "text": [
      "The following is a table of the error in each step of the iteration for Newton's method and Secant method:\n",
      "\n",
      "+--------+----------+----------+------------+-----------+------------+--------------+-------------+-------------+--------------+\n",
      "| Newton | 0.319372 | 0.249889 |  0.175768  | 0.0934325 | 0.0251852  |  0.00162275  | 6.38984e-06 | 9.87017e-11 |  0           |\n",
      "+--------+----------+----------+------------+-----------+------------+--------------+-------------+-------------+--------------+\n",
      "| Secant | 0.016129 | 0.174449 | -0.0729219 | 0.0148757 | 0.00228526 | -9.31621e-05 | 4.92343e-07 | 1.10304e-10 | -2.22045e-16 |\n",
      "+--------+----------+----------+------------+-----------+------------+--------------+-------------+-------------+--------------+\n",
      "\n",
      "Error decreases as expected, and stops when desired tolerance is reached.\n"
     ]
    }
   ],
   "source": [
    "from tabulate import tabulate\n",
    "\n",
    "print(\"The following is a table of the error in each step of the iteration for Newton's method and Secant method:\\n\")\n",
    "er_newt.insert(0,\"Newton\")\n",
    "er_sec.insert(0,\"Secant\")\n",
    "data = [er_newt, er_sec]\n",
    "\n",
    "print(tabulate(data,tablefmt=\"grid\"))\n",
    "er_newt = er_newt[1:]\n",
    "er_sec = er_sec[1:]\n",
    "\n",
    "print(\"\\nError decreases as expected, and stops when desired tolerance is reached.\")"
   ]
  },
  {
   "cell_type": "markdown",
   "id": "80832cfd-2209-42fc-a5d2-8681593630e5",
   "metadata": {},
   "source": [
    "### b)"
   ]
  },
  {
   "cell_type": "code",
   "execution_count": 14,
   "id": "634d160d-f899-46ee-a602-0a761cfcdb03",
   "metadata": {},
   "outputs": [
    {
     "data": {
      "image/png": "[encoded data removed]",
      "text/plain": [
       "<Figure size 432x288 with 1 Axes>"
      ]
     },
     "metadata": {
      "needs_background": "light"
     },
     "output_type": "display_data"
    }
   ],
   "source": [
    "alpha = 1.13472\n",
    "y = []\n",
    "x = abs(p_newt - alpha)\n",
    "for i in range (len(p_newt)): \n",
    "    p1 = x[i] - (f(x[i])/fp(x[i])) #x_k+1\n",
    "    y.append(abs(p1 - alpha)) \n",
    "\n",
    "plt.plot(y[:len(y)],x[:len(x)], label = \"Newton\")\n",
    "\n",
    "y = []\n",
    "x = abs(p_sec - alpha)\n",
    "\n",
    "for i in range (1,len(x)): \n",
    "    p1 = x[i] - (f(x[i])*(x[i] - x[i-1]))/(f(x[i]) - f(x[i-1])) #x_k+1\n",
    "    y.append(abs(p1 - alpha))\n",
    "\n",
    "plt.plot(y[:len(y)],x[1:len(x)], label = \"Secant\")\n",
    "\n",
    "plt.legend()\n",
    "\n",
    "plt.title(r\"$|x_{k+1} - \\alpha |\\: vs\\: |x_{k} - \\alpha |$\")\n",
    "plt.ylabel(r\"$|x_{k+1} - \\alpha |$\")\n",
    "plt.xlabel(r\"$|x_{k} - \\alpha |$\")\n",
    "plt.yscale(\"log\")\n",
    "plt.xscale(\"log\")\n",
    "\n",
    "\n",
    "plt.show()"
   ]
  }
 ],
 "metadata": {
  "kernelspec": {
   "display_name": "Python 3 (ipykernel)",
   "language": "python",
   "name": "python3"
  },
  "language_info": {
   "codemirror_mode": {
    "name": "ipython",
    "version": 3
   },
   "file_extension": ".py",
   "mimetype": "text/x-python",
   "name": "python",
   "nbconvert_exporter": "python",
   "pygments_lexer": "ipython3",
   "version": "3.9.12"
  }
 },
 "nbformat": 4,
 "nbformat_minor": 5
}
