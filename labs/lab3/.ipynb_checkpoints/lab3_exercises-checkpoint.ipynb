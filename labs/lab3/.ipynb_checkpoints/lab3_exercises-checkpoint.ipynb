{
 "cells": [
  {
   "cell_type": "markdown",
   "id": "86291b05-a949-4c34-905a-b10b3ac681c0",
   "metadata": {},
   "source": [
    "# Bisecion"
   ]
  },
  {
   "cell_type": "code",
   "execution_count": 8,
   "id": "a2b482f6-278b-4022-856e-48737d3f7b20",
   "metadata": {},
   "outputs": [],
   "source": [
    "# import libraries\n",
    "import numpy as np\n",
    "\n",
    "def driver(f,a,b,tol):\n",
    "\n",
    "# use routines \n",
    "\n",
    "#    f = lambda x: np.sin(x)\n",
    "#    a = 0.1\n",
    "#    b = np.pi+0.1\n",
    "\n",
    "    #tol = 1e-7\n",
    "\n",
    "    [astar,ier] = bisection(f,a,b,tol)\n",
    "    print('the approximate root is',astar)\n",
    "    print('the error message reads:',ier)\n",
    "    print('f(astar) =', f(astar))\n",
    "\n",
    "\n",
    "\n",
    "\n",
    "# define routines\n",
    "def bisection(f,a,b,tol):\n",
    "    \n",
    "#    Inputs:\n",
    "#     f,a,b       - function and endpoints of initial interval\n",
    "#      tol  - bisection stops when interval length < tol\n",
    "\n",
    "#    Returns:\n",
    "#      astar - approximation of root\n",
    "#      ier   - error message\n",
    "#            - ier = 1 => Failed\n",
    "#            - ier = 0 == success\n",
    "\n",
    "#     first verify there is a root we can find in the interval \n",
    "\n",
    "    fa = f(a)\n",
    "    fb = f(b);\n",
    "    if (fa*fb>0):\n",
    "       ier = 1\n",
    "       astar = a\n",
    "       return [astar, ier]\n",
    "\n",
    "#   verify end points are not a root \n",
    "    if (fa == 0):\n",
    "      astar = a\n",
    "      ier =0\n",
    "      return [astar, ier]\n",
    "\n",
    "    if (fb ==0):\n",
    "      astar = b\n",
    "      ier = 0\n",
    "      return [astar, ier]\n",
    "\n",
    "    count = 0\n",
    "    d = 0.5*(a+b)\n",
    "    while (abs(d-a)> tol):\n",
    "      fd = f(d)\n",
    "      if (fd ==0):\n",
    "        astar = d\n",
    "        ier = 0\n",
    "        return [astar, ier]\n",
    "      if (fa*fd<0):\n",
    "         b = d\n",
    "      else: \n",
    "        a = d\n",
    "        fa = fd\n",
    "      d = 0.5*(a+b)\n",
    "      count = count +1\n",
    "#      print('abs(d-a) = ', abs(d-a))\n",
    "      \n",
    "    astar = d\n",
    "    ier = 0\n",
    "    return [astar, ier]              "
   ]
  },
  {
   "cell_type": "code",
   "execution_count": 9,
   "id": "a5fe421e-122f-4dca-81b6-9bc097dd297b",
   "metadata": {},
   "outputs": [
    {
     "name": "stdout",
     "output_type": "stream",
     "text": [
      "the approximate root is 0.9999999701976776\n",
      "the error message reads: 0\n",
      "f(astar) = -2.98023206113385e-08\n"
     ]
    }
   ],
   "source": [
    "#1a\n",
    "\n",
    "f = lambda x: x*x*(x-1)\n",
    "a = 0.5\n",
    "b = 2\n",
    "tol = 1e-7\n",
    "\n",
    "driver(f,a,b,tol)"
   ]
  },
  {
   "cell_type": "code",
   "execution_count": 10,
   "id": "ae951b7c-2ae1-4d81-abd4-300d9d74b8ac",
   "metadata": {},
   "outputs": [
    {
     "name": "stdout",
     "output_type": "stream",
     "text": [
      "the approximate root is -1\n",
      "the error message reads: 1\n",
      "f(astar) = -2\n"
     ]
    }
   ],
   "source": [
    "#1b\n",
    "\n",
    "f = lambda x: x*x*(x-1)\n",
    "a = -1\n",
    "b = 0.5\n",
    "tol = 1e-7\n",
    "\n",
    "driver(f,a,b,tol)"
   ]
  },
  {
   "cell_type": "code",
   "execution_count": 11,
   "id": "61817829-7840-4275-a2d9-7bfd3d7cf355",
   "metadata": {},
   "outputs": [
    {
     "name": "stdout",
     "output_type": "stream",
     "text": [
      "the approximate root is 0.9999999701976776\n",
      "the error message reads: 0\n",
      "f(astar) = -2.98023206113385e-08\n"
     ]
    }
   ],
   "source": [
    "#1c\n",
    "\n",
    "f = lambda x: x*x*(x-1)\n",
    "a = -1\n",
    "b = 2\n",
    "tol = 1e-7\n",
    "\n",
    "driver(f,a,b,tol)"
   ]
  },
  {
   "cell_type": "code",
   "execution_count": 12,
   "id": "b7bc8d69-7d4f-4011-b640-070e5156fba4",
   "metadata": {},
   "outputs": [
    {
     "name": "stdout",
     "output_type": "stream",
     "text": [
      "the approximate root is 1.0000030517578122\n",
      "the error message reads: 0\n",
      "f(astar) = 2.4414006618542327e-05\n"
     ]
    }
   ],
   "source": [
    "#2a\n",
    "\n",
    "f = lambda x: (x-1)*(x-3)*(x-5)\n",
    "a = 0\n",
    "b = 2.4\n",
    "tol = 1e-5\n",
    "\n",
    "driver(f,a,b,tol)"
   ]
  },
  {
   "cell_type": "code",
   "execution_count": 13,
   "id": "d04261d2-2d05-4b33-8775-f0b791c3eaf8",
   "metadata": {},
   "outputs": [
    {
     "name": "stdout",
     "output_type": "stream",
     "text": [
      "the approximate root is 0\n",
      "the error message reads: 1\n",
      "f(astar) = -3\n"
     ]
    }
   ],
   "source": [
    "#2b\n",
    "\n",
    "f = lambda x: (x-1)*(x-1)*(x-3)\n",
    "a = 0\n",
    "b = 2\n",
    "tol = 1e-5\n",
    "\n",
    "driver(f,a,b,tol)"
   ]
  },
  {
   "cell_type": "code",
   "execution_count": 14,
   "id": "34502870-e348-4c41-9e7d-3a4f7cc69639",
   "metadata": {},
   "outputs": [
    {
     "name": "stdout",
     "output_type": "stream",
     "text": [
      "the approximate root is 0\n",
      "the error message reads: 0\n",
      "f(astar) = 0.0\n"
     ]
    }
   ],
   "source": [
    "#2c\n",
    "import math\n",
    "f = lambda x: math.sin(x)\n",
    "a = 0\n",
    "b = 0.1\n",
    "tol = 1e-5\n",
    "\n",
    "driver(f,a,b,tol)"
   ]
  },
  {
   "cell_type": "code",
   "execution_count": 15,
   "id": "d2d9a18d-89ff-4c8c-97d5-892929097734",
   "metadata": {},
   "outputs": [
    {
     "name": "stdout",
     "output_type": "stream",
     "text": [
      "the approximate root is 0.5\n",
      "the error message reads: 1\n",
      "f(astar) = 0.479425538604203\n"
     ]
    }
   ],
   "source": [
    "#2c\n",
    "import math\n",
    "f = lambda x: math.sin(x)\n",
    "a = 0.5\n",
    "b = (3*math.pi)/4\n",
    "tol = 1e-5\n",
    "\n",
    "driver(f,a,b,tol)"
   ]
  },
  {
   "cell_type": "markdown",
   "id": "3a06339c-ebef-41f4-8635-9020762958cd",
   "metadata": {},
   "source": [
    "# Fixed Point"
   ]
  },
  {
   "cell_type": "code",
   "execution_count": 26,
   "id": "9afc90b4-9801-4d0c-9f7f-c832ab20fcdd",
   "metadata": {},
   "outputs": [],
   "source": [
    "def driver1(f1):\n",
    "\n",
    "# test functions \n",
    "     #f1 = lambda x: 1+0.5*np.sin(x)\n",
    "# fixed point is alpha1 = 1.4987....\n",
    "\n",
    "     f2 = lambda x: x\n",
    "#fixed point is alpha2 = 3.09... \n",
    "\n",
    "     Nmax = 100\n",
    "     tol = 1e-10\n",
    "\n",
    "# test f1 '''\n",
    "     x0 = 1\n",
    "     [xstar,ier] = fixedpt(f1,x0,tol,Nmax)\n",
    "     print('the approximate fixed point is:',xstar)\n",
    "     print('f1(xstar):',f1(xstar))\n",
    "     print('Error message reads:',ier)\n",
    "    \n",
    "#test f2 '''\n",
    "     x0 = 1\n",
    "     [xstar,ier] = fixedpt(f2,x0,tol,Nmax)\n",
    "     print('the approximate fixed point is:',xstar)\n",
    "     print('f2(xstar):',f2(xstar))\n",
    "     print('Error message reads:',ier)\n",
    "\n",
    "\n",
    "\n",
    "# define routines\n",
    "def fixedpt(f,x0,tol,Nmax):\n",
    "\n",
    "    ''' x0 = initial guess''' \n",
    "    ''' Nmax = max number of iterations'''\n",
    "    ''' tol = stopping tolerance'''\n",
    "\n",
    "    count = 0\n",
    "    while (count <Nmax):\n",
    "       count = count +1\n",
    "       x1 = f(x0)\n",
    "       if (abs(x1-x0) <tol):\n",
    "          xstar = x1\n",
    "          ier = 0\n",
    "          return [xstar,ier]\n",
    "       x0 = x1\n",
    "\n",
    "    xstar = x1\n",
    "    ier = 1\n",
    "    return [xstar, ier]"
   ]
  },
  {
   "cell_type": "code",
   "execution_count": 27,
   "id": "96fc83d2-7fd6-40db-bf96-817185d31703",
   "metadata": {},
   "outputs": [
    {
     "ename": "OverflowError",
     "evalue": "(34, 'Result too large')",
     "output_type": "error",
     "traceback": [
      "\u001b[0;31m---------------------------------------------------------------------------\u001b[0m",
      "\u001b[0;31mOverflowError\u001b[0m                             Traceback (most recent call last)",
      "Input \u001b[0;32mIn [27]\u001b[0m, in \u001b[0;36m<cell line: 2>\u001b[0;34m()\u001b[0m\n\u001b[1;32m      1\u001b[0m f1 \u001b[38;5;241m=\u001b[39m \u001b[38;5;28;01mlambda\u001b[39;00m x: x\u001b[38;5;241m*\u001b[39m(\u001b[38;5;241m1\u001b[39m\u001b[38;5;241m+\u001b[39m(\u001b[38;5;241m7\u001b[39m\u001b[38;5;241m-\u001b[39mx\u001b[38;5;241m*\u001b[39m\u001b[38;5;241m*\u001b[39m\u001b[38;5;241m5\u001b[39m)\u001b[38;5;241m/\u001b[39m(x\u001b[38;5;241m*\u001b[39mx))\u001b[38;5;241m*\u001b[39m\u001b[38;5;241m*\u001b[39m\u001b[38;5;241m3\u001b[39m\n\u001b[0;32m----> 2\u001b[0m \u001b[43mdriver1\u001b[49m\u001b[43m(\u001b[49m\u001b[43mf1\u001b[49m\u001b[43m)\u001b[49m\n",
      "Input \u001b[0;32mIn [26]\u001b[0m, in \u001b[0;36mdriver1\u001b[0;34m(f1)\u001b[0m\n\u001b[1;32m     13\u001b[0m \u001b[38;5;66;03m# test f1 '''\u001b[39;00m\n\u001b[1;32m     14\u001b[0m      x0 \u001b[38;5;241m=\u001b[39m \u001b[38;5;241m1\u001b[39m\n\u001b[0;32m---> 15\u001b[0m      [xstar,ier] \u001b[38;5;241m=\u001b[39m \u001b[43mfixedpt\u001b[49m\u001b[43m(\u001b[49m\u001b[43mf1\u001b[49m\u001b[43m,\u001b[49m\u001b[43mx0\u001b[49m\u001b[43m,\u001b[49m\u001b[43mtol\u001b[49m\u001b[43m,\u001b[49m\u001b[43mNmax\u001b[49m\u001b[43m)\u001b[49m\n\u001b[1;32m     16\u001b[0m      \u001b[38;5;28mprint\u001b[39m(\u001b[38;5;124m'\u001b[39m\u001b[38;5;124mthe approximate fixed point is:\u001b[39m\u001b[38;5;124m'\u001b[39m,xstar)\n\u001b[1;32m     17\u001b[0m      \u001b[38;5;28mprint\u001b[39m(\u001b[38;5;124m'\u001b[39m\u001b[38;5;124mf1(xstar):\u001b[39m\u001b[38;5;124m'\u001b[39m,f1(xstar))\n",
      "Input \u001b[0;32mIn [26]\u001b[0m, in \u001b[0;36mfixedpt\u001b[0;34m(f, x0, tol, Nmax)\u001b[0m\n\u001b[1;32m     37\u001b[0m \u001b[38;5;28;01mwhile\u001b[39;00m (count \u001b[38;5;241m<\u001b[39mNmax):\n\u001b[1;32m     38\u001b[0m    count \u001b[38;5;241m=\u001b[39m count \u001b[38;5;241m+\u001b[39m\u001b[38;5;241m1\u001b[39m\n\u001b[0;32m---> 39\u001b[0m    x1 \u001b[38;5;241m=\u001b[39m \u001b[43mf\u001b[49m\u001b[43m(\u001b[49m\u001b[43mx0\u001b[49m\u001b[43m)\u001b[49m\n\u001b[1;32m     40\u001b[0m    \u001b[38;5;28;01mif\u001b[39;00m (\u001b[38;5;28mabs\u001b[39m(x1\u001b[38;5;241m-\u001b[39mx0) \u001b[38;5;241m<\u001b[39mtol):\n\u001b[1;32m     41\u001b[0m       xstar \u001b[38;5;241m=\u001b[39m x1\n",
      "Input \u001b[0;32mIn [27]\u001b[0m, in \u001b[0;36m<lambda>\u001b[0;34m(x)\u001b[0m\n\u001b[0;32m----> 1\u001b[0m f1 \u001b[38;5;241m=\u001b[39m \u001b[38;5;28;01mlambda\u001b[39;00m x: x\u001b[38;5;241m*\u001b[39m(\u001b[38;5;241m1\u001b[39m\u001b[38;5;241m+\u001b[39m(\u001b[38;5;241m7\u001b[39m\u001b[38;5;241m-\u001b[39m\u001b[43mx\u001b[49m\u001b[38;5;241;43m*\u001b[39;49m\u001b[38;5;241;43m*\u001b[39;49m\u001b[38;5;241;43m5\u001b[39;49m)\u001b[38;5;241m/\u001b[39m(x\u001b[38;5;241m*\u001b[39mx))\u001b[38;5;241m*\u001b[39m\u001b[38;5;241m*\u001b[39m\u001b[38;5;241m3\u001b[39m\n\u001b[1;32m      2\u001b[0m driver1(f1)\n",
      "\u001b[0;31mOverflowError\u001b[0m: (34, 'Result too large')"
     ]
    }
   ],
   "source": [
    "f1 = lambda x: x*(1+(7-x**5)/(x*x))**3\n",
    "driver1(f1)"
   ]
  },
  {
   "cell_type": "code",
   "execution_count": 28,
   "id": "052bb462-9780-4d77-8bbd-099154bbafc4",
   "metadata": {},
   "outputs": [
    {
     "ename": "OverflowError",
     "evalue": "(34, 'Result too large')",
     "output_type": "error",
     "traceback": [
      "\u001b[0;31m---------------------------------------------------------------------------\u001b[0m",
      "\u001b[0;31mOverflowError\u001b[0m                             Traceback (most recent call last)",
      "Input \u001b[0;32mIn [28]\u001b[0m, in \u001b[0;36m<cell line: 2>\u001b[0;34m()\u001b[0m\n\u001b[1;32m      1\u001b[0m f1 \u001b[38;5;241m=\u001b[39m \u001b[38;5;28;01mlambda\u001b[39;00m x: x \u001b[38;5;241m-\u001b[39m (x\u001b[38;5;241m*\u001b[39m\u001b[38;5;241m*\u001b[39m\u001b[38;5;241m5\u001b[39m \u001b[38;5;241m-\u001b[39m \u001b[38;5;241m7\u001b[39m)\u001b[38;5;241m/\u001b[39m(x\u001b[38;5;241m*\u001b[39mx)\n\u001b[0;32m----> 2\u001b[0m \u001b[43mdriver1\u001b[49m\u001b[43m(\u001b[49m\u001b[43mf1\u001b[49m\u001b[43m)\u001b[49m\n",
      "Input \u001b[0;32mIn [26]\u001b[0m, in \u001b[0;36mdriver1\u001b[0;34m(f1)\u001b[0m\n\u001b[1;32m     13\u001b[0m \u001b[38;5;66;03m# test f1 '''\u001b[39;00m\n\u001b[1;32m     14\u001b[0m      x0 \u001b[38;5;241m=\u001b[39m \u001b[38;5;241m1\u001b[39m\n\u001b[0;32m---> 15\u001b[0m      [xstar,ier] \u001b[38;5;241m=\u001b[39m \u001b[43mfixedpt\u001b[49m\u001b[43m(\u001b[49m\u001b[43mf1\u001b[49m\u001b[43m,\u001b[49m\u001b[43mx0\u001b[49m\u001b[43m,\u001b[49m\u001b[43mtol\u001b[49m\u001b[43m,\u001b[49m\u001b[43mNmax\u001b[49m\u001b[43m)\u001b[49m\n\u001b[1;32m     16\u001b[0m      \u001b[38;5;28mprint\u001b[39m(\u001b[38;5;124m'\u001b[39m\u001b[38;5;124mthe approximate fixed point is:\u001b[39m\u001b[38;5;124m'\u001b[39m,xstar)\n\u001b[1;32m     17\u001b[0m      \u001b[38;5;28mprint\u001b[39m(\u001b[38;5;124m'\u001b[39m\u001b[38;5;124mf1(xstar):\u001b[39m\u001b[38;5;124m'\u001b[39m,f1(xstar))\n",
      "Input \u001b[0;32mIn [26]\u001b[0m, in \u001b[0;36mfixedpt\u001b[0;34m(f, x0, tol, Nmax)\u001b[0m\n\u001b[1;32m     37\u001b[0m \u001b[38;5;28;01mwhile\u001b[39;00m (count \u001b[38;5;241m<\u001b[39mNmax):\n\u001b[1;32m     38\u001b[0m    count \u001b[38;5;241m=\u001b[39m count \u001b[38;5;241m+\u001b[39m\u001b[38;5;241m1\u001b[39m\n\u001b[0;32m---> 39\u001b[0m    x1 \u001b[38;5;241m=\u001b[39m \u001b[43mf\u001b[49m\u001b[43m(\u001b[49m\u001b[43mx0\u001b[49m\u001b[43m)\u001b[49m\n\u001b[1;32m     40\u001b[0m    \u001b[38;5;28;01mif\u001b[39;00m (\u001b[38;5;28mabs\u001b[39m(x1\u001b[38;5;241m-\u001b[39mx0) \u001b[38;5;241m<\u001b[39mtol):\n\u001b[1;32m     41\u001b[0m       xstar \u001b[38;5;241m=\u001b[39m x1\n",
      "Input \u001b[0;32mIn [28]\u001b[0m, in \u001b[0;36m<lambda>\u001b[0;34m(x)\u001b[0m\n\u001b[0;32m----> 1\u001b[0m f1 \u001b[38;5;241m=\u001b[39m \u001b[38;5;28;01mlambda\u001b[39;00m x: x \u001b[38;5;241m-\u001b[39m (\u001b[43mx\u001b[49m\u001b[38;5;241;43m*\u001b[39;49m\u001b[38;5;241;43m*\u001b[39;49m\u001b[38;5;241;43m5\u001b[39;49m \u001b[38;5;241m-\u001b[39m \u001b[38;5;241m7\u001b[39m)\u001b[38;5;241m/\u001b[39m(x\u001b[38;5;241m*\u001b[39mx)\n\u001b[1;32m      2\u001b[0m driver1(f1)\n",
      "\u001b[0;31mOverflowError\u001b[0m: (34, 'Result too large')"
     ]
    }
   ],
   "source": [
    "f1 = lambda x: x - (x**5 - 7)/(x*x)\n",
    "driver1(f1)"
   ]
  },
  {
   "cell_type": "code",
   "execution_count": 29,
   "id": "08fcedda-f3ba-4881-832c-963ee6d5b06b",
   "metadata": {},
   "outputs": [
    {
     "name": "stdout",
     "output_type": "stream",
     "text": [
      "the approximate fixed point is: 1.475773161594552\n",
      "f1(xstar): 1.4757731615945522\n",
      "Error message reads: 0\n",
      "the approximate fixed point is: 1\n",
      "f2(xstar): 1\n",
      "Error message reads: 0\n"
     ]
    }
   ],
   "source": [
    "f1 = lambda x: x - (x**5 - 7)/(5*x**4)\n",
    "driver1(f1)"
   ]
  },
  {
   "cell_type": "code",
   "execution_count": 30,
   "id": "4d7ecf31-d2a4-47cd-802b-72fb9f466c9d",
   "metadata": {},
   "outputs": [
    {
     "name": "stdout",
     "output_type": "stream",
     "text": [
      "the approximate fixed point is: 1.473578045466708\n",
      "f1(xstar): 1.4779035096682074\n",
      "Error message reads: 1\n",
      "the approximate fixed point is: 1\n",
      "f2(xstar): 1\n",
      "Error message reads: 0\n"
     ]
    }
   ],
   "source": [
    "f1 = lambda x: x - (x**5 - 7)/(12)\n",
    "driver1(f1)"
   ]
  },
  {
   "cell_type": "code",
   "execution_count": null,
   "id": "1ed756a7-c722-4efd-b6b9-ebbc30312454",
   "metadata": {},
   "outputs": [],
   "source": []
  }
 ],
 "metadata": {
  "kernelspec": {
   "display_name": "Python 3 (ipykernel)",
   "language": "python",
   "name": "python3"
  },
  "language_info": {
   "codemirror_mode": {
    "name": "ipython",
    "version": 3
   },
   "file_extension": ".py",
   "mimetype": "text/x-python",
   "name": "python",
   "nbconvert_exporter": "python",
   "pygments_lexer": "ipython3",
   "version": "3.9.12"
  }
 },
 "nbformat": 4,
 "nbformat_minor": 5
}
