{
 "cells": [
  {
   "cell_type": "code",
   "execution_count": 4,
   "id": "b2abd5c2-05c9-44a1-b058-49a1affe6871",
   "metadata": {},
   "outputs": [],
   "source": [
    "import numpy as np"
   ]
  },
  {
   "cell_type": "code",
   "execution_count": 8,
   "id": "fe132d0e-4d96-4d1d-9641-ac9a84f4c641",
   "metadata": {},
   "outputs": [],
   "source": [
    "def driver():\n",
    "    \n",
    "    # test functions\n",
    "    f1 = lambda x: np.sqrt(10/(x+4))\n",
    "\n",
    "    #fixed point is alpha2 = 3.09...\n",
    "    Nmax = 100\n",
    "    tol = 1e-10\n",
    "\n",
    "    # test f1 '''\n",
    "    x0 = 1.5\n",
    "    [xstar,ier,vec] = fixedpt_vec(f1,x0,tol,Nmax)\n",
    "    print('the approximate fixed point is:',xstar)\n",
    "    print('f1(xstar):',f1(xstar))\n",
    "    print('Error message reads:',ier)\n",
    "    print('Vector of approximations at each iteration is:',vec)\n",
    "    print('Total number of iterations is:', len(vec))\n",
    "    print('\\n')\n",
    "        \n",
    "    [outvec, ier] = aitkens(vec, tol, Nmax)\n",
    "   \n",
    "    print('Error message reads:',ier)\n",
    "    print('The new sequence of iterations is using Aitkens Method is:', outvec)\n",
    "    print('The number of iterations using Aitkens Method is:', len(outvec))\n",
    "\n",
    "\n",
    "# define routines\n",
    "def fixedpt_vec(f,x0,tol,Nmax):\n",
    "    \n",
    "    ''' x0 = initial guess'''\n",
    "    ''' Nmax = max number of iterations'''\n",
    "    ''' tol = stopping tolerance'''\n",
    "    \n",
    "    count = 0\n",
    "    vec = []\n",
    "    while (count < Nmax):\n",
    "        count = count +1\n",
    "        x1 = f(x0)\n",
    "        if (abs(x1-x0) <tol):\n",
    "            xstar = x1\n",
    "            ier = 0\n",
    "            vec.append(x1)\n",
    "            return [xstar,ier, vec]\n",
    "        vec.append(x1)\n",
    "        x0 = x1\n",
    "        \n",
    "    xstar = x1\n",
    "    ier = 1\n",
    "\n",
    "    return [xstar, ier, vec]"
   ]
  },
  {
   "cell_type": "code",
   "execution_count": 9,
   "id": "d664f83a-4cc4-431f-ad7a-8e4ec6d273de",
   "metadata": {},
   "outputs": [],
   "source": [
    "def aitkens(vec, tol, Nmax):\n",
    "    outvec = []\n",
    "    count = 0\n",
    "    outvec.append(vec[0] - ((vec[1]-vec[0])**2)/(vec[2]-2*vec[1]+vec[0]))\n",
    "    \n",
    "    while (count < Nmax):\n",
    "        count += 1\n",
    "        v = vec[count] - ((vec[count+1]-vec[count])**2)/(vec[count+2]-2*vec[count+1]+vec[count])\n",
    "    \n",
    "        if (abs(v-outvec[count-1]) <tol):\n",
    "            outvec.append(v)\n",
    "            ier = 0\n",
    "            return [outvec, ier]\n",
    "        \n",
    "        outvec.append(v)\n",
    "    \n",
    "    ier = 1\n",
    "    return [outvec, ier]      "
   ]
  },
  {
   "cell_type": "code",
   "execution_count": 10,
   "id": "cc4bf6c1-eab9-4de3-bc41-962f3929f1e4",
   "metadata": {},
   "outputs": [
    {
     "name": "stdout",
     "output_type": "stream",
     "text": [
      "the approximate fixed point is: 1.3652300134164816\n",
      "f1(xstar): 1.3652300134137934\n",
      "Error message reads: 0\n",
      "Vector of approximations at each iteration is: [1.348399724926484, 1.3673763719912828, 1.364957015402487, 1.3652647481134421, 1.365225594160525, 1.3652305756734338, 1.3652299418781833, 1.3652300225155685, 1.365230012256122, 1.3652300135614253, 1.3652300133953523, 1.3652300134164816]\n",
      "Total number of iterations is: 12\n",
      "\n",
      "\n",
      "Error message reads: 0\n",
      "The new sequence of iterations is using Aitkens Method is: [1.3652305845417765, 1.3652300226567435, 1.3652300135637154, 1.3652300134165187, 1.365230013414136]\n",
      "The number of iterations using Aitkens Method is: 5\n"
     ]
    }
   ],
   "source": [
    "driver()"
   ]
  }
 ],
 "metadata": {
  "kernelspec": {
   "display_name": "Python 3 (ipykernel)",
   "language": "python",
   "name": "python3"
  },
  "language_info": {
   "codemirror_mode": {
    "name": "ipython",
    "version": 3
   },
   "file_extension": ".py",
   "mimetype": "text/x-python",
   "name": "python",
   "nbconvert_exporter": "python",
   "pygments_lexer": "ipython3",
   "version": "3.9.12"
  }
 },
 "nbformat": 4,
 "nbformat_minor": 5
}
