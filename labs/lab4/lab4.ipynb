{
 "cells": [
  {
   "cell_type": "code",
   "execution_count": 2,
   "id": "b2abd5c2-05c9-44a1-b058-49a1affe6871",
   "metadata": {},
   "outputs": [],
   "source": [
    "import numpy as np"
   ]
  },
  {
   "cell_type": "code",
   "execution_count": 28,
   "id": "fe132d0e-4d96-4d1d-9641-ac9a84f4c641",
   "metadata": {},
   "outputs": [],
   "source": [
    "def driver():\n",
    "    \n",
    "    # test functions\n",
    "    f1 = lambda x: 1+0.5*np.sin(x)\n",
    "\n",
    "    # fixed point is alpha1 = 1.4987....\n",
    "    f2 = lambda x: 3+2*np.sin(x)\n",
    "\n",
    "    #fixed point is alpha2 = 3.09...\n",
    "    Nmax = 100\n",
    "    tol = 1e-6\n",
    "\n",
    "    # test f1 '''\n",
    "    x0 = 0.0\n",
    "    [xstar,ier,vec] = fixedpt_vec(f1,x0,tol,Nmax)\n",
    "    print('the approximate fixed point is:',xstar)\n",
    "    print('f1(xstar):',f1(xstar))\n",
    "    print('Error message reads:',ier)\n",
    "    print('Vector of approximations at each iteration is:',vec)\n",
    "\n",
    "    # #test f2 '''\n",
    "    # x0 = 0.0\n",
    "    # [xstar,ier,vec] = fixedpt_vec(f2,x0,tol,Nmax)\n",
    "    # print('the approximate fixed point is:',xstar)\n",
    "    # print('f2(xstar):',f2(xstar))\n",
    "    # print('Error message reads:',ier)\n",
    "\n",
    "# define routines\n",
    "def fixedpt_vec(f,x0,tol,Nmax):\n",
    "    \n",
    "    ''' x0 = initial guess'''\n",
    "    ''' Nmax = max number of iterations'''\n",
    "    ''' tol = stopping tolerance'''\n",
    "    \n",
    "    count = 0\n",
    "    vec = []\n",
    "    while (count < Nmax):\n",
    "        count = count +1\n",
    "        x1 = f(x0)\n",
    "        if (abs(x1-x0) <tol):\n",
    "            xstar = x1\n",
    "            ier = 0\n",
    "            vec.append(x1)\n",
    "            return [xstar,ier, vec]\n",
    "        vec.append(x1)\n",
    "        x0 = x1\n",
    "        \n",
    "    xstar = x1\n",
    "    ier = 1\n",
    "\n",
    "    return [xstar, ier, vec]"
   ]
  },
  {
   "cell_type": "code",
   "execution_count": 29,
   "id": "cc4bf6c1-eab9-4de3-bc41-962f3929f1e4",
   "metadata": {},
   "outputs": [
    {
     "name": "stdout",
     "output_type": "stream",
     "text": [
      "the approximate fixed point is: 1.49870112602244\n",
      "f1(xstar): 1.4987011332478908\n",
      "Error message reads: 0\n",
      "Vector of approximations at each iteration is: [1.0, 1.4207354924039484, 1.4943809925643206, 1.4985408843991685, 1.4986953555218978, 1.498700925407042, 1.49870112602244]\n"
     ]
    }
   ],
   "source": [
    "driver()"
   ]
  },
  {
   "cell_type": "code",
   "execution_count": null,
   "id": "0e737e6a-3715-4d3e-9f40-933d1a586bfe",
   "metadata": {},
   "outputs": [],
   "source": []
  }
 ],
 "metadata": {
  "kernelspec": {
   "display_name": "Python 3 (ipykernel)",
   "language": "python",
   "name": "python3"
  },
  "language_info": {
   "codemirror_mode": {
    "name": "ipython",
    "version": 3
   },
   "file_extension": ".py",
   "mimetype": "text/x-python",
   "name": "python",
   "nbconvert_exporter": "python",
   "pygments_lexer": "ipython3",
   "version": "3.9.12"
  }
 },
 "nbformat": 4,
 "nbformat_minor": 5
}
