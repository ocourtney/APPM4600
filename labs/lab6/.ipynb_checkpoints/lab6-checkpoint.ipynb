{
 "cells": [
  {
   "cell_type": "code",
   "execution_count": 1,
   "id": "4e4e09cc-7528-4ca6-bd9b-e98d74dd973e",
   "metadata": {},
   "outputs": [],
   "source": [
    "import numpy as np\n",
    "import math\n",
    "from matplotlib import pyplot as plt"
   ]
  },
  {
   "cell_type": "markdown",
   "id": "339069af-045b-4413-b429-04dba0a779f4",
   "metadata": {},
   "source": [
    "### Pre-lab"
   ]
  },
  {
   "cell_type": "code",
   "execution_count": 2,
   "id": "31253eff-49ca-40ea-9503-f15373b5b049",
   "metadata": {},
   "outputs": [
    {
     "data": {
      "image/png": "[encoded data removed]",
      "text/plain": [
       "<Figure size 432x288 with 1 Axes>"
      ]
     },
     "metadata": {
      "needs_background": "light"
     },
     "output_type": "display_data"
    }
   ],
   "source": [
    "x = np.pi/2\n",
    "h = 0.01*2.**(-np.arange(0, 10))\n",
    "forward = (np.cos(x+h) - np.cos(x))/h\n",
    "centered = (np.cos(x+h) - np.cos(x-h))/(2*h)\n",
    "\n",
    "plt.title(\"test\")\n",
    "plt.xlabel(\"h\")\n",
    "plt.ylabel(\"derivative\")\n",
    "plt.plot(h, forward, label = 'forward')\n",
    "plt.plot(h, centered, label = 'centered')\n",
    "plt.ticklabel_format(useOffset=False)\n",
    "plt.legend()\n",
    "plt.show()"
   ]
  },
  {
   "cell_type": "markdown",
   "id": "916fc215-1a4f-4bd8-95a4-f3a122a80517",
   "metadata": {},
   "source": [
    "### 3.2 Build Slacker Newton"
   ]
  },
  {
   "cell_type": "markdown",
   "id": "87f18cd0-84a0-4cfb-9599-860940236378",
   "metadata": {},
   "source": [
    "1. Condition: norm(x1-x0) < some threshold set by user"
   ]
  },
  {
   "cell_type": "code",
   "execution_count": 3,
   "id": "04a5917a-957c-4555-a40a-58c41d9a2838",
   "metadata": {},
   "outputs": [],
   "source": [
    "import time\n",
    "from numpy.linalg import inv\n",
    "from numpy.linalg import norm"
   ]
  },
  {
   "cell_type": "code",
   "execution_count": 4,
   "id": "f4e0e179-e263-4581-a7e9-24207a668faa",
   "metadata": {},
   "outputs": [],
   "source": [
    "def evalF(x):\n",
    "    F = np.zeros(2)\n",
    "    F[0] = 4*x[0]**2 + x[1]**2 -4\n",
    "    F[1] = x[0] + x[1] - np.sin(x[0] - x[1])\n",
    "    \n",
    "    return F\n",
    "\n",
    "def evalJ(x):\n",
    "    J = np.array([[8*x[0], 2*x[1]],[1 - np.cos(x[0] - x[1]), 1 + np.cos(x[0] - x[1])]])\n",
    "    return J"
   ]
  },
  {
   "cell_type": "code",
   "execution_count": 5,
   "id": "ac4762b0-8b01-4676-9550-889acd152d27",
   "metadata": {},
   "outputs": [],
   "source": [
    "def slackerNewton(x0, Nmax, tol, thresh):\n",
    "    ''' inputs: x0 = initial guess, tol = tolerance, Nmax = max its'''\n",
    "    ''' Outputs: xstar= approx root, ier = error message, its = num its'''\n",
    "    jack = 0\n",
    "    for its in range(Nmax):\n",
    "        J = evalJ(x0)\n",
    "        Jinv = inv(J)\n",
    "        F = evalF(x0)\n",
    "        jack +=1 \n",
    "        \n",
    "        x1 = x0 - Jinv.dot(F)\n",
    "        \n",
    "        if (norm(x1-x0) < thresh):\n",
    "            #start lazy newton\n",
    "            x0 = x1\n",
    "            for its2 in range(Nmax-its):\n",
    "                F = evalF(x0)\n",
    "                x1 = x0 - Jinv.dot(F)\n",
    "\n",
    "                if (norm(x1-x0) < tol):\n",
    "                    xstar = x1\n",
    "                    ier =0\n",
    "                    return[xstar, ier, its2 + its +1, jack]\n",
    "\n",
    "                x0 = x1\n",
    "\n",
    "            xstar = x1\n",
    "            ier = 1\n",
    "            return[xstar,ier,its2 + its+1, jack]\n",
    "        \n",
    "        x0 = x1\n",
    "        \n",
    "    xstar = x1\n",
    "    ier = 1\n",
    "    return[xstar,ier,its,jack]"
   ]
  },
  {
   "cell_type": "code",
   "execution_count": 6,
   "id": "09d26435-d375-4f6f-a8d7-1ff748799687",
   "metadata": {},
   "outputs": [
    {
     "name": "stdout",
     "output_type": "stream",
     "text": [
      "[ 0.99860694 -0.10553049]\n",
      "Slacker Newton: the error message reads: 0\n",
      "Slacker Newton: took this many seconds: 0.00020394325256347656\n",
      "Slacker Netwon: number of iterations is: 4\n",
      "Slacker Netwon: number of Jacobians calculated is: 2\n"
     ]
    }
   ],
   "source": [
    "def driver():\n",
    "    x0 = np.array([1., 0.])\n",
    "    Nmax = 100\n",
    "    tol = 1e-10\n",
    "    \n",
    "    t = time.time()\n",
    "    thresh = 0.1 #if norm of difference of iterates is less than this, we move from regular newton to lazy newton\n",
    "\n",
    "    for j in range(50):\n",
    "        [xstar,ier,its,jack] = slackerNewton(x0,Nmax,tol,thresh)\n",
    "        #[xstar,ier,its] = Newton(x0,Nmax,tol)\n",
    "        \n",
    "    elapsed = time.time()-t\n",
    "    print(xstar)\n",
    "    print('Slacker Newton: the error message reads:',ier)\n",
    "    print('Slacker Newton: took this many seconds:',elapsed/50)\n",
    "    print('Slacker Netwon: number of iterations is:',its)\n",
    "    print('Slacker Netwon: number of Jacobians calculated is:',jack)\n",
    "    \n",
    "driver()"
   ]
  },
  {
   "cell_type": "markdown",
   "id": "11ca21f2-a10f-458c-b93d-6fcb557cc62b",
   "metadata": {},
   "source": [
    "4. My lab partner's version recomputes the Jacobian every three iterations. Her method used four iterations and calculated three Jacobian, which requires more computing power! But, my method is slower :("
   ]
  },
  {
   "cell_type": "code",
   "execution_count": 7,
   "id": "e2b83549-bca0-4258-a7fe-38e78f22b2ae",
   "metadata": {},
   "outputs": [
    {
     "name": "stdout",
     "output_type": "stream",
     "text": [
      "[ 0.49999052  0.01441216 -0.52323977]\n",
      "Slacker Newton: the error message reads: 0\n",
      "Slacker Newton: took this many seconds: 0.00023258209228515625\n",
      "Slacker Netwon: number of iterations is: 8\n",
      "Slacker Netwon: number of Jacobians calculated is: 2\n"
     ]
    }
   ],
   "source": [
    "def evalF(x):\n",
    "    F = np.zeros(3)\n",
    "    F[0] = 3*x[0]-math.cos(x[1]*x[2])-1/2\n",
    "    F[1] = x[0]-81*(x[1]+0.1)**2+math.sin(x[2])+1.06\n",
    "    F[2] = np.exp(-x[0]*x[1])+20*x[2]+(10*math.pi-3)/3\n",
    "    return F\n",
    "\n",
    "def evalJ(x):\n",
    "    J = np.array([[3.0, x[2]*math.sin(x[1]*x[2]), x[1]*math.sin(x[1]*x[2])],\n",
    "    [2.*x[0], -162.*(x[1]+0.1), math.cos(x[2])],\n",
    "    [-x[1]*np.exp(-x[0]*x[1]), -x[0]*np.exp(-x[0]*x[1]), 20]])\n",
    "    return J\n",
    "\n",
    "def driver():\n",
    "    x0 = np.array([0.1, 0.1, -0.1])\n",
    "    Nmax = 100\n",
    "    tol = 1e-10\n",
    "    \n",
    "    t = time.time()\n",
    "    thresh = 0.1 #if norm of difference of iterates is less than this, we move from regular newton to lazy newton\n",
    "\n",
    "    for j in range(50):\n",
    "        [xstar,ier,its,jack] = slackerNewton(x0,Nmax,tol,thresh)\n",
    "        #[xstar,ier,its] = Newton(x0,Nmax,tol)\n",
    "        \n",
    "    elapsed = time.time()-t\n",
    "    print(xstar)\n",
    "    print('Slacker Newton: the error message reads:',ier)\n",
    "    print('Slacker Newton: took this many seconds:',elapsed/50)\n",
    "    print('Slacker Netwon: number of iterations is:',its)\n",
    "    print('Slacker Netwon: number of Jacobians calculated is:',jack)\n",
    "    \n",
    "driver()"
   ]
  },
  {
   "cell_type": "markdown",
   "id": "8bbe4f0c-fde8-4ad3-9f2f-a7605b247249",
   "metadata": {},
   "source": [
    "5. The method performs well for the example problem, with 8 iterations and two jacobians calculated. My lab partner's method takes three jacobians, 5 iterations and is faster as well :(. Molly wins..."
   ]
  },
  {
   "cell_type": "markdown",
   "id": "28cae10e-d572-4261-88e3-cb5a6e1d0183",
   "metadata": {},
   "source": [
    "### 3.3 Approximate Jacobian"
   ]
  },
  {
   "cell_type": "code",
   "execution_count": 8,
   "id": "9a658305-cbe2-46b6-bc29-9d8404c29528",
   "metadata": {},
   "outputs": [],
   "source": [
    "def evalF(x):\n",
    "    F = np.zeros(2)\n",
    "    F[0] = 4*x[0]**2 + x[1]**2 -4\n",
    "    F[1] = x[0] + x[1] - np.sin(x[0] - x[1])\n",
    "    \n",
    "    return F\n",
    "\n",
    "def approxEvalJ(x,h):\n",
    "    f1 = ((4*(x[0]+h)**2 + x[1]**2 -4) - (4*x[0]**2 + x[1]**2 -4))/h\n",
    "    f2 = ((4*(x[0])**2 + (x[1]+h)**2 -4) - (4*x[0]**2 + x[1]**2 -4))/h\n",
    "    \n",
    "    g1 = (((x[0]+h) + x[1] - np.sin((x[0]+h) - x[1])) - (x[0] + x[1] - np.sin(x[0] - x[1])))/h\n",
    "    g2 = ((x[0] + (x[1]+h) - np.sin((x[0]) - (x[1]+h))) - (x[0] + x[1] - np.sin(x[0] - x[1])))/h\n",
    "    \n",
    "    J = [[f1,f2],[g1,g2]]\n",
    "    return J"
   ]
  },
  {
   "cell_type": "code",
   "execution_count": 9,
   "id": "07279479-a386-4a6d-b721-bf4a0b70934d",
   "metadata": {},
   "outputs": [],
   "source": [
    "def approxNewton(x0,Nmax,tol,h):\n",
    "\n",
    "    ''' inputs: x0 = initial guess, tol = tolerance, Nmax = max its'''\n",
    "    ''' Outputs: xstar= approx root, ier = error message, its = num its'''\n",
    "    \n",
    "    for its in range(Nmax):\n",
    "        J = approxEvalJ(x0,h)\n",
    "        Jinv = inv(J)\n",
    "        F = evalF(x0)\n",
    "        \n",
    "        x1 = x0 - Jinv.dot(F)\n",
    "        \n",
    "        if (norm(x1-x0) < tol):\n",
    "            xstar = x1\n",
    "            ier =0\n",
    "            return[xstar, ier, its]\n",
    "        \n",
    "        x0 = x1\n",
    "        \n",
    "    xstar = x1\n",
    "    ier = 1\n",
    "    return[xstar,ier,its]"
   ]
  },
  {
   "cell_type": "markdown",
   "id": "73e91e70-8e8a-406e-92e8-9bcb23f5af89",
   "metadata": {},
   "source": [
    "2. Applying to problem given in lab"
   ]
  },
  {
   "cell_type": "code",
   "execution_count": 10,
   "id": "d8569f4f-e2d3-4c18-806e-9b51cfb007da",
   "metadata": {},
   "outputs": [
    {
     "name": "stdout",
     "output_type": "stream",
     "text": [
      "[ 0.99860694 -0.10553049]\n",
      "Slacker Newton: the error message reads: 0\n",
      "Slacker Newton: took this many seconds: 0.0002559995651245117\n",
      "Slacker Netwon: number of iterations is: 3\n"
     ]
    }
   ],
   "source": [
    "def driver():\n",
    "    x0 = np.array([1., 0.])\n",
    "    Nmax = 100\n",
    "    tol = 1e-10\n",
    "    \n",
    "    t = time.time()\n",
    "    h = norm(x0)*1e-7\n",
    "    \n",
    "    for j in range(50):\n",
    "        [xstar,ier,its] = approxNewton(x0,Nmax,tol,h)\n",
    "        #[xstar,ier,its] = Newton(x0,Nmax,tol)\n",
    "        \n",
    "    elapsed = time.time()-t\n",
    "    print(xstar)\n",
    "    print('Slacker Newton: the error message reads:',ier)\n",
    "    print('Slacker Newton: took this many seconds:',elapsed/50)\n",
    "    print('Slacker Netwon: number of iterations is:',its)\n",
    "    \n",
    "driver()"
   ]
  },
  {
   "cell_type": "code",
   "execution_count": 11,
   "id": "539eab37-94f3-4ab3-94bf-165366af8243",
   "metadata": {},
   "outputs": [
    {
     "name": "stdout",
     "output_type": "stream",
     "text": [
      "[ 0.99860694 -0.10553049]\n",
      "Approx Newton: the error message reads: 0\n",
      "Approx Newton: took this many seconds: 0.0002576589584350586\n",
      "Approx Netwon: number of iterations is: 4\n"
     ]
    }
   ],
   "source": [
    "def driver():\n",
    "    x0 = np.array([1., 0.])\n",
    "    Nmax = 100\n",
    "    tol = 1e-10\n",
    "    \n",
    "    t = time.time()\n",
    "    h = norm(x0)*1e-3\n",
    "    \n",
    "    for j in range(50):\n",
    "        [xstar,ier,its] = approxNewton(x0,Nmax,tol,h)\n",
    "        #[xstar,ier,its] = Newton(x0,Nmax,tol)\n",
    "        \n",
    "    elapsed = time.time()-t\n",
    "    print(xstar)\n",
    "    print('Approx Newton: the error message reads:',ier)\n",
    "    print('Approx Newton: took this many seconds:',elapsed/50)\n",
    "    print('Approx Netwon: number of iterations is:',its)\n",
    "    \n",
    "driver()"
   ]
  },
  {
   "cell_type": "markdown",
   "id": "90fcea8b-51fa-4f32-8d3d-fa1d3d90605c",
   "metadata": {},
   "source": [
    "The performance decreases as h increases, we see more iterations are needed. \n"
   ]
  },
  {
   "cell_type": "markdown",
   "id": "bcf528a6-c178-4791-887b-519871e784dc",
   "metadata": {},
   "source": [
    "3. Applying to problem given in class"
   ]
  },
  {
   "cell_type": "code",
   "execution_count": 12,
   "id": "0c75984c-0427-4efc-9226-04e0cc4b4639",
   "metadata": {},
   "outputs": [],
   "source": [
    "def evalF(x):\n",
    "    F = np.zeros(3)\n",
    "    F[0] = 3*x[0]-math.cos(x[1]*x[2])-1/2\n",
    "    F[1] = x[0]-81*(x[1]+0.1)**2+math.sin(x[2])+1.06\n",
    "    F[2] = np.exp(-x[0]*x[1])+20*x[2]+(10*math.pi-3)/3\n",
    "    return F\n",
    "\n",
    "def approxEvalJ(x,h):\n",
    "    f1 = ((3*(x[0]+h)-math.cos(x[1]*x[2])-1/2) - (3*x[0]-math.cos(x[1]*x[2])-1/2))/h\n",
    "    f2 = ((3*x[0]-math.cos((x[1]+h)*x[2])-1/2) - (3*x[0]-math.cos(x[1]*x[2])-1/2))/h\n",
    "    f3 = ((3*x[0]-math.cos(x[1]*(x[2]+h))-1/2) - (3*x[0]-math.cos(x[1]*x[2])-1/2))/h\n",
    "    \n",
    "    g1 = (((x[0]+h)-81*(x[1]+0.1)**2+math.sin(x[2])+1.06) - (x[0]-81*(x[1]+0.1)**2+math.sin(x[2])+1.06))/h\n",
    "    g2 = (((x[0])-81*(x[1]+0.1+h)**2+math.sin(x[2])+1.06) - (x[0]-81*(x[1]+0.1)**2+math.sin(x[2])+1.06))/h\n",
    "    g3 = (((x[0]+h)-81*(x[1]+0.1)**2+math.sin(x[2]+h)+1.06) - (x[0]-81*(x[1]+0.1)**2+math.sin(x[2])+1.06))/h\n",
    "    \n",
    "    h1 = ((np.exp(-(x[0]+h)*x[1])+20*x[2]+(10*math.pi-3)/3) - (np.exp(-x[0]*x[1])+20*x[2]+(10*math.pi-3)/3))/h\n",
    "    h2 = ((np.exp(-x[0]*(x[1]+h))+20*x[2]+(10*math.pi-3)/3) - (np.exp(-x[0]*x[1])+20*x[2]+(10*math.pi-3)/3))/h\n",
    "    h3 = ((np.exp(-x[0]*x[1])+20*(x[2]+h)+(10*math.pi-3)/3) - (np.exp(-x[0]*x[1])+20*x[2]+(10*math.pi-3)/3))/h\n",
    "    \n",
    "    J = [[f1,f2,f3],[g1,g2,g3],[h1,h2,h3]]\n",
    "    \n",
    "    return J"
   ]
  },
  {
   "cell_type": "code",
   "execution_count": 13,
   "id": "a470cdbf-cf63-4b86-9cf7-746e5bc39718",
   "metadata": {},
   "outputs": [
    {
     "name": "stdout",
     "output_type": "stream",
     "text": [
      "[ 0.49999052  0.01441216 -0.52323977]\n",
      "Approx Newton: the error message reads: 0\n",
      "Approx Newton: took this many seconds: 0.0003802776336669922\n",
      "Approx Netwon: number of iterations is: 4\n"
     ]
    }
   ],
   "source": [
    "def driver():\n",
    "    x0 = np.array([0.1, 0.1, -0.1])\n",
    "    Nmax = 100\n",
    "    tol = 1e-10\n",
    "    \n",
    "    t = time.time()\n",
    "    h = norm(x0)*1e-7\n",
    "    \n",
    "    for j in range(50):\n",
    "        [xstar,ier,its] = approxNewton(x0,Nmax,tol,h)\n",
    "        #[xstar,ier,its] = Newton(x0,Nmax,tol)\n",
    "        \n",
    "    elapsed = time.time()-t\n",
    "    print(xstar)\n",
    "    print('Approx Newton: the error message reads:',ier)\n",
    "    print('Approx Newton: took this many seconds:',elapsed/50)\n",
    "    print('Approx Netwon: number of iterations is:',its)\n",
    "    \n",
    "driver()"
   ]
  },
  {
   "cell_type": "markdown",
   "id": "e294701e-ac6b-4c85-92d3-83ca1f46d0b7",
   "metadata": {},
   "source": [
    "### 3.4 Hybrid Newton"
   ]
  },
  {
   "cell_type": "code",
   "execution_count": 14,
   "id": "eafda62c-54e7-4a4d-ba8a-5c6e92586b79",
   "metadata": {},
   "outputs": [],
   "source": [
    "def evalF(x):\n",
    "    F = np.zeros(2)\n",
    "    F[0] = 4*x[0]**2 + x[1]**2 -4\n",
    "    F[1] = x[0] + x[1] - np.sin(x[0] - x[1])\n",
    "    \n",
    "    return F\n",
    "\n",
    "def approxEvalJ(x,h):\n",
    "    f1 = ((4*(x[0]+h)**2 + x[1]**2 -4) - (4*x[0]**2 + x[1]**2 -4))/h\n",
    "    f2 = ((4*(x[0])**2 + (x[1]+h)**2 -4) - (4*x[0]**2 + x[1]**2 -4))/h\n",
    "    \n",
    "    g1 = (((x[0]+h) + x[1] - np.sin((x[0]+h) - x[1])) - (x[0] + x[1] - np.sin(x[0] - x[1])))/h\n",
    "    g2 = ((x[0] + (x[1]+h) - np.sin((x[0]) - (x[1]+h))) - (x[0] + x[1] - np.sin(x[0] - x[1])))/h\n",
    "    \n",
    "    J = [[f1,f2],[g1,g2]]\n",
    "    return J"
   ]
  },
  {
   "cell_type": "code",
   "execution_count": 15,
   "id": "f6b05819-d6eb-4567-84c3-88303073f4ac",
   "metadata": {},
   "outputs": [],
   "source": [
    "def approxSlackerNewton(x0, Nmax, tol, thresh, h):\n",
    "    ''' inputs: x0 = initial guess, tol = tolerance, Nmax = max its'''\n",
    "    ''' Outputs: xstar= approx root, ier = error message, its = num its'''\n",
    "    jack = 0\n",
    "    for its in range(Nmax):\n",
    "        J = approxEvalJ(x0,h)\n",
    "        Jinv = inv(J)\n",
    "        F = evalF(x0)\n",
    "        jack +=1 \n",
    "        \n",
    "        x1 = x0 - Jinv.dot(F)\n",
    "        \n",
    "        if (norm(x1-x0) < thresh):\n",
    "            #start lazy newton\n",
    "            x0 = x1\n",
    "            for its2 in range(Nmax-its):\n",
    "                F = evalF(x0)\n",
    "                x1 = x0 - Jinv.dot(F)\n",
    "\n",
    "                if (norm(x1-x0) < tol):\n",
    "                    xstar = x1\n",
    "                    ier =0\n",
    "                    return[xstar, ier, its2 + its +1, jack]\n",
    "\n",
    "                x0 = x1\n",
    "\n",
    "            xstar = x1\n",
    "            ier = 1\n",
    "            return[xstar,ier,its2 + its+1, jack]\n",
    "        \n",
    "        x0 = x1\n",
    "        \n",
    "    xstar = x1\n",
    "    ier = 1\n",
    "    return[xstar,ier,its,jack]"
   ]
  },
  {
   "cell_type": "code",
   "execution_count": 16,
   "id": "bdbcb4fc-acb6-4504-b355-d056424a9262",
   "metadata": {},
   "outputs": [
    {
     "name": "stdout",
     "output_type": "stream",
     "text": [
      "[ 0.99860694 -0.10553049]\n",
      "Slacker Newton: the error message reads: 0\n",
      "Slacker Newton: took this many seconds: 0.00019475936889648437\n",
      "Slacker Netwon: number of iterations is: 4\n",
      "Slacker Netwon: number of Jacobians calculated is: 2\n"
     ]
    }
   ],
   "source": [
    "def driver():\n",
    "    x0 = np.array([1., 0.])\n",
    "    Nmax = 100\n",
    "    tol = 1e-10\n",
    "    \n",
    "    t = time.time()\n",
    "    thresh = 0.1 #if norm of difference of iterates is less than this, we move from regular newton to lazy newton\n",
    "    h = norm(x0)*1e-7\n",
    "        \n",
    "    for j in range(50):\n",
    "        [xstar,ier,its,jack] = approxSlackerNewton(x0,Nmax,tol,thresh, h)\n",
    "        #[xstar,ier,its] = Newton(x0,Nmax,tol)\n",
    "        \n",
    "    elapsed = time.time()-t\n",
    "    print(xstar)\n",
    "    print('Slacker Newton: the error message reads:',ier)\n",
    "    print('Slacker Newton: took this many seconds:',elapsed/50)\n",
    "    print('Slacker Netwon: number of iterations is:',its)\n",
    "    print('Slacker Netwon: number of Jacobians calculated is:',jack)\n",
    "    \n",
    "driver()"
   ]
  },
  {
   "cell_type": "markdown",
   "id": "514c93e6-2b8f-452b-8e07-2cc1e2c24f59",
   "metadata": {},
   "source": [
    "For problem from class:"
   ]
  },
  {
   "cell_type": "code",
   "execution_count": 17,
   "id": "c76c6ddd-230a-42f3-8be8-11236f5491e2",
   "metadata": {},
   "outputs": [],
   "source": [
    "def evalF(x):\n",
    "    F = np.zeros(3)\n",
    "    F[0] = 3*x[0]-math.cos(x[1]*x[2])-1/2\n",
    "    F[1] = x[0]-81*(x[1]+0.1)**2+math.sin(x[2])+1.06\n",
    "    F[2] = np.exp(-x[0]*x[1])+20*x[2]+(10*math.pi-3)/3\n",
    "    return F\n",
    "\n",
    "def approxEvalJ(x,h):\n",
    "    f1 = ((3*(x[0]+h)-math.cos(x[1]*x[2])-1/2) - (3*x[0]-math.cos(x[1]*x[2])-1/2))/h\n",
    "    f2 = ((3*x[0]-math.cos((x[1]+h)*x[2])-1/2) - (3*x[0]-math.cos(x[1]*x[2])-1/2))/h\n",
    "    f3 = ((3*x[0]-math.cos(x[1]*(x[2]+h))-1/2) - (3*x[0]-math.cos(x[1]*x[2])-1/2))/h\n",
    "    \n",
    "    g1 = (((x[0]+h)-81*(x[1]+0.1)**2+math.sin(x[2])+1.06) - (x[0]-81*(x[1]+0.1)**2+math.sin(x[2])+1.06))/h\n",
    "    g2 = (((x[0])-81*(x[1]+0.1+h)**2+math.sin(x[2])+1.06) - (x[0]-81*(x[1]+0.1)**2+math.sin(x[2])+1.06))/h\n",
    "    g3 = (((x[0]+h)-81*(x[1]+0.1)**2+math.sin(x[2]+h)+1.06) - (x[0]-81*(x[1]+0.1)**2+math.sin(x[2])+1.06))/h\n",
    "    \n",
    "    h1 = ((np.exp(-(x[0]+h)*x[1])+20*x[2]+(10*math.pi-3)/3) - (np.exp(-x[0]*x[1])+20*x[2]+(10*math.pi-3)/3))/h\n",
    "    h2 = ((np.exp(-x[0]*(x[1]+h))+20*x[2]+(10*math.pi-3)/3) - (np.exp(-x[0]*x[1])+20*x[2]+(10*math.pi-3)/3))/h\n",
    "    h3 = ((np.exp(-x[0]*x[1])+20*(x[2]+h)+(10*math.pi-3)/3) - (np.exp(-x[0]*x[1])+20*x[2]+(10*math.pi-3)/3))/h\n",
    "    \n",
    "    J = [[f1,f2,f3],[g1,g2,g3],[h1,h2,h3]]\n",
    "    \n",
    "    return J"
   ]
  },
  {
   "cell_type": "code",
   "execution_count": 18,
   "id": "a70675e2-f95f-4fc0-b8d2-cf91d2db6be4",
   "metadata": {},
   "outputs": [],
   "source": [
    "def approxSlackerNewton(x0, Nmax, tol, thresh, h):\n",
    "    ''' inputs: x0 = initial guess, tol = tolerance, Nmax = max its'''\n",
    "    ''' Outputs: xstar= approx root, ier = error message, its = num its'''\n",
    "    jack = 0\n",
    "    for its in range(Nmax):\n",
    "        J = approxEvalJ(x0,h)\n",
    "        Jinv = inv(J)\n",
    "        F = evalF(x0)\n",
    "        jack +=1 \n",
    "        \n",
    "        x1 = x0 - Jinv.dot(F)\n",
    "        \n",
    "        if (norm(x1-x0) < thresh):\n",
    "            #start lazy newton\n",
    "            x0 = x1\n",
    "            for its2 in range(Nmax-its):\n",
    "                F = evalF(x0)\n",
    "                x1 = x0 - Jinv.dot(F)\n",
    "\n",
    "                if (norm(x1-x0) < tol):\n",
    "                    xstar = x1\n",
    "                    ier =0\n",
    "                    return[xstar, ier, its2 + its +1, jack]\n",
    "\n",
    "                x0 = x1\n",
    "\n",
    "            xstar = x1\n",
    "            ier = 1\n",
    "            return[xstar,ier,its2 + its+1, jack]\n",
    "        \n",
    "        x0 = x1\n",
    "        \n",
    "    xstar = x1\n",
    "    ier = 1\n",
    "    return[xstar,ier,its,jack]"
   ]
  },
  {
   "cell_type": "code",
   "execution_count": 19,
   "id": "4b68c8b9-d53f-4e29-8b43-606fdeb45e19",
   "metadata": {},
   "outputs": [
    {
     "name": "stdout",
     "output_type": "stream",
     "text": [
      "[ 0.49999052  0.01441216 -0.52323977]\n",
      "Slacker Newton: the error message reads: 0\n",
      "Slacker Newton: took this many seconds: 0.00026047706604003906\n",
      "Slacker Netwon: number of iterations is: 6\n",
      "Slacker Netwon: number of Jacobians calculated is: 2\n"
     ]
    }
   ],
   "source": [
    "def driver():\n",
    "    x0 = np.array([0.1, 0.1, -0.1])\n",
    "    Nmax = 100\n",
    "    tol = 1e-10\n",
    "    \n",
    "    t = time.time()\n",
    "    thresh = 0.1 #if norm of difference of iterates is less than this, we move from regular newton to lazy newton\n",
    "    h = norm(x0)*1e-7\n",
    "        \n",
    "    for j in range(50):\n",
    "        [xstar,ier,its,jack] = approxSlackerNewton(x0,Nmax,tol,thresh, h)\n",
    "        #[xstar,ier,its] = Newton(x0,Nmax,tol)\n",
    "        \n",
    "    elapsed = time.time()-t\n",
    "    print(xstar)\n",
    "    print('Slacker Newton: the error message reads:',ier)\n",
    "    print('Slacker Newton: took this many seconds:',elapsed/50)\n",
    "    print('Slacker Netwon: number of iterations is:',its)\n",
    "    print('Slacker Netwon: number of Jacobians calculated is:',jack)\n",
    "    \n",
    "driver()"
   ]
  }
 ],
 "metadata": {
  "kernelspec": {
   "display_name": "Python 3 (ipykernel)",
   "language": "python",
   "name": "python3"
  },
  "language_info": {
   "codemirror_mode": {
    "name": "ipython",
    "version": 3
   },
   "file_extension": ".py",
   "mimetype": "text/x-python",
   "name": "python",
   "nbconvert_exporter": "python",
   "pygments_lexer": "ipython3",
   "version": "3.9.12"
  }
 },
 "nbformat": 4,
 "nbformat_minor": 5
}
