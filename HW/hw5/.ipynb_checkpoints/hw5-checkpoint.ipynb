{
 "cells": [
  {
   "cell_type": "code",
   "execution_count": 1,
   "id": "002b226f-b356-48e6-a04d-8c78476e31bb",
   "metadata": {},
   "outputs": [],
   "source": [
    "import numpy as np\n",
    "import math\n",
    "import time\n",
    "from numpy.linalg import norm \n",
    "from numpy.linalg import inv \n",
    "from matplotlib import pyplot as plt"
   ]
  },
  {
   "cell_type": "markdown",
   "id": "136ab5f4-0ef1-42c4-afd9-7b70a4bd9701",
   "metadata": {},
   "source": [
    "## 1a"
   ]
  },
  {
   "cell_type": "code",
   "execution_count": 2,
   "id": "5b292554-5584-41e9-b105-2318cfc68bca",
   "metadata": {},
   "outputs": [],
   "source": [
    "def evalF(x): \n",
    "\n",
    "    F = np.zeros(2)\n",
    "    \n",
    "    F[0] = 3*x[0]**2 - x[1]**2\n",
    "    F[1] = 3*x[0]*x[1]**2 - x[0]**3 - 1\n",
    "    return F\n",
    "\n",
    "def evalJ(x): \n",
    "\n",
    "    J = np.array([[6*x[0],-2*x[1]], \n",
    "        [3*x[1]**2 - 3*x[0]**2, 6*x[0]*x[1]]])\n",
    "    return J\n",
    "\n",
    "def itterate(x0,tol,Nmax):\n",
    "\n",
    "    J = np.array([[1/6,1/18],[0,1/6]])\n",
    "    \n",
    "    for its in range(Nmax):\n",
    "        F = evalF(x0)\n",
    "        x1 = x0 - J.dot(F)\n",
    "        if (norm(x1-x0) < tol):\n",
    "            xstar = x1\n",
    "            ier =0\n",
    "            return[xstar, ier,its]\n",
    "           \n",
    "        x0 = x1\n",
    "    \n",
    "    xstar = x1\n",
    "    ier = 1\n",
    "    return[xstar,ier,its] "
   ]
  },
  {
   "cell_type": "code",
   "execution_count": 3,
   "id": "b3c2e897-caff-408a-8755-927fb9ab1ca5",
   "metadata": {},
   "outputs": [
    {
     "name": "stdout",
     "output_type": "stream",
     "text": [
      "[0.5       0.8660254]\n",
      "the error message reads: 0\n",
      "took this many seconds: 0.00042877674102783205\n",
      "number of iterations is: 33\n"
     ]
    }
   ],
   "source": [
    "def driver():\n",
    "    \n",
    "    x0 = np.array([1,1])\n",
    "    Nmax = 100\n",
    "    tol = 1e-10\n",
    "    \n",
    "    t = time.time()\n",
    "    \n",
    "    for j in range(50):\n",
    "        [xstar,ier,its] =  itterate(x0,tol,Nmax)\n",
    "        \n",
    "    elapsed = time.time()-t\n",
    "    print(xstar)\n",
    "    print('the error message reads:',ier) \n",
    "    print('took this many seconds:',elapsed/50)\n",
    "    print('number of iterations is:',its)\n",
    "driver()"
   ]
  },
  {
   "cell_type": "markdown",
   "id": "f86d6ff3-f8a0-44a2-91ec-a932f300673f",
   "metadata": {},
   "source": [
    "## 1c"
   ]
  },
  {
   "cell_type": "code",
   "execution_count": 4,
   "id": "10ad751a-efc8-4f87-81ed-be813de1babc",
   "metadata": {},
   "outputs": [],
   "source": [
    "def Newton(x0,tol,Nmax):\n",
    "\n",
    "    ''' inputs: x0 = initial guess, tol = tolerance, Nmax = max its'''\n",
    "    ''' Outputs: xstar= approx root, ier = error message, its = num its'''\n",
    "\n",
    "    for its in range(Nmax):\n",
    "        J = evalJ(x0)\n",
    "        Jinv = inv(J)\n",
    "        F = evalF(x0)\n",
    "\n",
    "        x1 = x0 - Jinv.dot(F)\n",
    "\n",
    "        if (norm(x1-x0) < tol):\n",
    "            xstar = x1\n",
    "            ier =0\n",
    "            return[xstar, ier, its]\n",
    "\n",
    "        x0 = x1\n",
    "\n",
    "    xstar = x1\n",
    "    ier = 1\n",
    "    return[xstar,ier,its]"
   ]
  },
  {
   "cell_type": "code",
   "execution_count": 5,
   "id": "2c24b70b-29a9-4eef-a149-35626bd68e67",
   "metadata": {},
   "outputs": [
    {
     "name": "stdout",
     "output_type": "stream",
     "text": [
      "[0.5       0.8660254]\n",
      "Newton: the error message reads: 0\n",
      "Newton: took this many seconds: 0.0002103424072265625\n",
      "Netwon: number of iterations is: 5\n"
     ]
    }
   ],
   "source": [
    "def driver():\n",
    "    \n",
    "    x0 = np.array([1.,1.])\n",
    "    Nmax = 100\n",
    "    tol = 1e-10\n",
    "    \n",
    "    t = time.time()\n",
    "    \n",
    "    for j in range(50):\n",
    "        [xstar,ier,its] =  Newton(x0,tol,Nmax)\n",
    "        \n",
    "    elapsed = time.time()-t\n",
    "    print(xstar)\n",
    "    print('Newton: the error message reads:',ier) \n",
    "    print('Newton: took this many seconds:',elapsed/50)\n",
    "    print('Netwon: number of iterations is:',its)\n",
    "driver()"
   ]
  },
  {
   "cell_type": "markdown",
   "id": "1e90346e-d253-4fba-943a-d700d425d632",
   "metadata": {},
   "source": [
    "Newton takes far fewer iterations to converge."
   ]
  },
  {
   "cell_type": "markdown",
   "id": "f61ed220-e02a-4ff2-b7b5-410ad94a325d",
   "metadata": {},
   "source": [
    "## 3b"
   ]
  },
  {
   "cell_type": "code",
   "execution_count": 6,
   "id": "b6401b7e-f283-4f5b-809d-7f0c3dbeffdc",
   "metadata": {},
   "outputs": [],
   "source": [
    "def evalF(x): \n",
    "\n",
    "    F = np.zeros(3)\n",
    "    \n",
    "    F = (x[0])**2 + 4*(x[1])**2 + 4*(x[2])**2 - 16\n",
    "    fx = 2*x[0]\n",
    "    fy = 8*x[1]\n",
    "    fz = 8*x[2]\n",
    "    \n",
    "    return F, fx, fy, fz\n",
    "\n",
    "def three(x0,tol,Nmax):\n",
    "\n",
    "    errors = []\n",
    "    \n",
    "    for its in range(Nmax):\n",
    "        F, fx, fy, fz = evalF(x0)\n",
    "        d = F/(fx**2 + fy**2 + fz**2)\n",
    "        \n",
    "        x1 = x0 - np.multiply(d,[fx,fy,fz])\n",
    "        \n",
    "        errors.append(norm(x1-x0))\n",
    "        \n",
    "        if (norm(x1-x0) < tol):\n",
    "            xstar = x1\n",
    "            ier =0\n",
    "            return[xstar, ier, its, errors]\n",
    "\n",
    "        x0 = x1\n",
    "\n",
    "    xstar = x1\n",
    "    ier = 1\n",
    "    return[xstar,ier,its, errors]\n",
    "    "
   ]
  },
  {
   "cell_type": "code",
   "execution_count": 7,
   "id": "ac481055-3154-48e7-9728-e22bd22967f5",
   "metadata": {},
   "outputs": [
    {
     "name": "stdout",
     "output_type": "stream",
     "text": [
      "[1.09364232 1.36032838 1.36032838]\n",
      "Newton: the error message reads: 0\n",
      "Newton: took this many seconds: 0.00016769886016845703\n",
      "Netwon: number of iterations is: 4\n"
     ]
    },
    {
     "data": {
      "image/png": "[encoded data removed]",
      "text/plain": [
       "<Figure size 432x288 with 1 Axes>"
      ]
     },
     "metadata": {
      "needs_background": "light"
     },
     "output_type": "display_data"
    }
   ],
   "source": [
    "def driver():\n",
    "    \n",
    "    x0 = np.array([1,1,1])\n",
    "    Nmax = 100\n",
    "    tol = 1e-10\n",
    "    \n",
    "    t = time.time()\n",
    "    \n",
    "    for j in range(50):\n",
    "        [xstar,ier,its, errors] =  three(x0,tol,Nmax)\n",
    "        \n",
    "    elapsed = time.time()-t\n",
    "    print(xstar)\n",
    "    print('Newton: the error message reads:',ier) \n",
    "    print('Newton: took this many seconds:',elapsed/50)\n",
    "    print('Netwon: number of iterations is:',its)\n",
    "    \n",
    "    plt.plot([0,1,2,3,4], errors)\n",
    "    \n",
    "driver()"
   ]
  },
  {
   "cell_type": "markdown",
   "id": "92f3e78d-7010-41d2-b74f-8d6fb2aee142",
   "metadata": {},
   "source": [
    "We see the error decreases quadratically, thus quadratic convergence."
   ]
  },
  {
   "cell_type": "code",
   "execution_count": null,
   "id": "36a753d0-f9af-4639-8596-b7f7e86c1784",
   "metadata": {},
   "outputs": [],
   "source": []
  }
 ],
 "metadata": {
  "kernelspec": {
   "display_name": "Python 3 (ipykernel)",
   "language": "python",
   "name": "python3"
  },
  "language_info": {
   "codemirror_mode": {
    "name": "ipython",
    "version": 3
   },
   "file_extension": ".py",
   "mimetype": "text/x-python",
   "name": "python",
   "nbconvert_exporter": "python",
   "pygments_lexer": "ipython3",
   "version": "3.9.12"
  }
 },
 "nbformat": 4,
 "nbformat_minor": 5
}
