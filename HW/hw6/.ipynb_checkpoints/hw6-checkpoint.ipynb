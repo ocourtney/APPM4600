{
 "cells": [
  {
   "cell_type": "code",
   "execution_count": 1,
   "id": "e3b8e221-cc42-4b3e-b14e-822c2b67363c",
   "metadata": {},
   "outputs": [],
   "source": [
    "#libraries:\n",
    "import matplotlib.pyplot as plt\n",
    "import numpy as np\n",
    "import math\n",
    "from numpy.linalg import inv\n",
    "from numpy.linalg import norm\n",
    "import time"
   ]
  },
  {
   "cell_type": "markdown",
   "id": "06aaf577-6edb-44f9-94d1-87604eac9d88",
   "metadata": {},
   "source": [
    "## Problem 1"
   ]
  },
  {
   "cell_type": "code",
   "execution_count": 2,
   "id": "c093377c-d67d-4215-8c47-3ff7c02da432",
   "metadata": {},
   "outputs": [],
   "source": [
    "def evalF(x): \n",
    "\n",
    "    F = np.zeros(2)\n",
    "    \n",
    "    F[0] = x[0]**2 + x[1]**2 - 4\n",
    "    F[1] = np.exp(x[0]) + x[1] - 1\n",
    "    return F\n",
    "\n",
    "def evalJ(x): \n",
    "\n",
    "    J = np.array([[2*x[0], 2*x[1]], \n",
    "        [np.e**x[0], 1]])\n",
    "    return J\n",
    "\n",
    "def Newton(x0,tol,Nmax):\n",
    "\n",
    "    ''' inputs: x0 = initial guess, tol = tolerance, Nmax = max its'''\n",
    "    ''' Outputs: xstar= approx root, ier = error message, its = num its'''\n",
    "    jack = 0\n",
    "    for its in range(Nmax):\n",
    "        J = evalJ(x0)\n",
    "        Jinv = inv(J)\n",
    "        F = evalF(x0)\n",
    "        jack += 1\n",
    "\n",
    "        x1 = x0 - Jinv.dot(F)\n",
    "\n",
    "        if (norm(x1-x0) < tol):\n",
    "            xstar = x1\n",
    "            ier =0\n",
    "            return[xstar, ier, its, jack]\n",
    "\n",
    "        x0 = x1\n",
    "\n",
    "    xstar = x1\n",
    "    ier = 1\n",
    "    return[xstar,ier,its, jack]\n",
    "\n",
    "def lazyNewton(x0,tol,Nmax):\n",
    "\n",
    "    ''' inputs: x0 = initial guess, tol = tolerance, Nmax = max its'''\n",
    "    ''' Outputs: xstar= approx root, ier = error message, its = num its'''\n",
    "    jack = 1\n",
    "    J = evalJ(x0)\n",
    "    Jinv = inv(J)\n",
    "    \n",
    "    for its in range(Nmax):\n",
    "        F = evalF(x0)\n",
    "\n",
    "        x1 = x0 - Jinv.dot(F)\n",
    "\n",
    "        if (norm(x1-x0) < tol):\n",
    "            xstar = x1\n",
    "            ier =0\n",
    "            return[xstar, ier, its, jack]\n",
    "\n",
    "        x0 = x1\n",
    "\n",
    "    xstar = x1\n",
    "    ier = 1\n",
    "    return[xstar,ier,its, jack]\n",
    "\n",
    "\n",
    "def slackerNewton(x0, tol, Nmax, thresh):\n",
    "    ''' inputs: x0 = initial guess, tol = tolerance, Nmax = max its'''\n",
    "    ''' Outputs: xstar= approx root, ier = error message, its = num its'''\n",
    "    jack = 0\n",
    "    for its in range(Nmax):\n",
    "        J = evalJ(x0)\n",
    "        Jinv = inv(J)\n",
    "        F = evalF(x0)\n",
    "        jack +=1 \n",
    "        \n",
    "        x1 = x0 - Jinv.dot(F)\n",
    "        \n",
    "        if (norm(x1-x0) < thresh):\n",
    "            #start lazy newton\n",
    "            x0 = x1\n",
    "            for its2 in range(Nmax-its):\n",
    "                F = evalF(x0)\n",
    "                x1 = x0 - Jinv.dot(F)\n",
    "\n",
    "                if (norm(x1-x0) < tol):\n",
    "                    xstar = x1\n",
    "                    ier =0\n",
    "                    return[xstar, ier, its2 + its +1, jack]\n",
    "\n",
    "                x0 = x1\n",
    "\n",
    "            xstar = x1\n",
    "            ier = 1\n",
    "            return[xstar,ier,its2 + its+1, jack]\n",
    "        \n",
    "        x0 = x1\n",
    "        \n",
    "    xstar = x1\n",
    "    ier = 1\n",
    "    return[xstar,ier,its,jack]"
   ]
  },
  {
   "cell_type": "code",
   "execution_count": 3,
   "id": "3ef709a0-edd2-48cb-9bdf-53dea1840acc",
   "metadata": {},
   "outputs": [],
   "source": [
    "def driver(x0):\n",
    "\n",
    "    Nmax = 100\n",
    "    tol = 1e-10\n",
    "    \n",
    "    '''NEWTON'''\n",
    "    \n",
    "    t = time.time()\n",
    "    \n",
    "    for j in range(50):\n",
    "        [xstar,ier,its, jack] =  Newton(x0,tol,Nmax)\n",
    "        \n",
    "    elapsed = time.time()-t\n",
    "    print(xstar)\n",
    "    print('Newton: the error message reads:',ier) \n",
    "    print('Newton: took this many seconds:',elapsed/50)\n",
    "    print('Netwon: number of iterations is:',its)\n",
    "    print('Netwon: number of Jacobians calculated is:',jack)\n",
    "    \n",
    "    '''LAZY'''\n",
    "    t = time.time()\n",
    "    \n",
    "    for j in range(50):\n",
    "        [xstar,ier,its,jack] = lazyNewton(x0,tol,Nmax)\n",
    "        \n",
    "    elapsed = time.time()-t\n",
    "    \n",
    "    print(\"\\n\")\n",
    "    print(xstar)\n",
    "    print('Lazy Newton: the error message reads:',ier)\n",
    "    print('Lazy Newton: took this many seconds:',elapsed/50)\n",
    "    print('Lazy Netwon: number of iterations is:',its)\n",
    "    print('Lazy Netwon: number of Jacobians calculated is:',jack)\n",
    "    \n",
    "    '''SLACKER'''\n",
    "    t = time.time()\n",
    "    thresh = 0.1\n",
    "    \n",
    "    for j in range(50):\n",
    "        [xstar,ier,its,jack] = slackerNewton(x0,tol,Nmax,thresh)\n",
    "        \n",
    "    elapsed = time.time()-t\n",
    "    \n",
    "    print(\"\\n\")\n",
    "    print(xstar)\n",
    "    print('Slacker Newton: the error message reads:',ier)\n",
    "    print('Slacker Newton: took this many seconds:',elapsed/50)\n",
    "    print('Slacker Netwon: number of iterations is:',its)\n",
    "    print('Slacker Netwon: number of Jacobians calculated is:',jack)"
   ]
  },
  {
   "cell_type": "markdown",
   "id": "740f7636-6414-4ed7-96d7-7defbc66714a",
   "metadata": {},
   "source": [
    "### ( i ) "
   ]
  },
  {
   "cell_type": "code",
   "execution_count": 4,
   "id": "36fb510e-ddbb-459a-a8e9-81fe06d6f37a",
   "metadata": {},
   "outputs": [
    {
     "name": "stdout",
     "output_type": "stream",
     "text": [
      "[-1.81626407  0.8373678 ]\n",
      "Newton: the error message reads: 0\n",
      "Newton: took this many seconds: 0.0002751445770263672\n",
      "Netwon: number of iterations is: 7\n",
      "Netwon: number of Jacobians calculated is: 8\n",
      "\n",
      "\n",
      "[nan nan]\n",
      "Lazy Newton: the error message reads: 1\n",
      "Lazy Newton: took this many seconds: 0.0015494585037231444\n",
      "Lazy Netwon: number of iterations is: 99\n",
      "Lazy Netwon: number of Jacobians calculated is: 1\n",
      "\n",
      "\n",
      "[-1.81626407  0.8373678 ]\n",
      "Slacker Newton: the error message reads: 0\n",
      "Slacker Newton: took this many seconds: 0.0002480554580688477\n",
      "Slacker Netwon: number of iterations is: 11\n",
      "Slacker Netwon: number of Jacobians calculated is: 5\n"
     ]
    },
    {
     "name": "stderr",
     "output_type": "stream",
     "text": [
      "/var/folders/59/fdfj046x7rd5r9hl09tnqvxh0000gn/T/ipykernel_90327/535599386.py:6: RuntimeWarning: overflow encountered in exp\n",
      "  F[1] = np.exp(x[0]) + x[1] - 1\n"
     ]
    }
   ],
   "source": [
    "x0 = np.array([1.,1.])\n",
    "driver(x0)"
   ]
  },
  {
   "cell_type": "markdown",
   "id": "188de354-0e73-4234-8975-8b83c1be87bd",
   "metadata": {},
   "source": [
    "We see that the performance is best for Newton, as it converges is the fewest number iterations. However, using Slacker Newton we need to calculate fewer Jacobians (5 vs 8) and only need four more iteration. Lazy Newton doesn't work here as it doesn't converge."
   ]
  },
  {
   "cell_type": "markdown",
   "id": "505b837f-da5f-48a7-9d0d-42662533aa9a",
   "metadata": {
    "tags": []
   },
   "source": [
    "## ( ii )"
   ]
  },
  {
   "cell_type": "code",
   "execution_count": 5,
   "id": "6f364fa3-da59-4216-925b-09f7cf78c51a",
   "metadata": {},
   "outputs": [
    {
     "name": "stdout",
     "output_type": "stream",
     "text": [
      "[ 1.00416874 -1.72963729]\n",
      "Newton: the error message reads: 0\n",
      "Newton: took this many seconds: 0.0002216196060180664\n",
      "Netwon: number of iterations is: 5\n",
      "Netwon: number of Jacobians calculated is: 6\n",
      "\n",
      "\n",
      "[ 1.00416874 -1.72963729]\n",
      "Lazy Newton: the error message reads: 0\n",
      "Lazy Newton: took this many seconds: 0.0006060409545898438\n",
      "Lazy Netwon: number of iterations is: 36\n",
      "Lazy Netwon: number of Jacobians calculated is: 1\n",
      "\n",
      "\n",
      "[ 1.00416874 -1.72963729]\n",
      "Slacker Newton: the error message reads: 0\n",
      "Slacker Newton: took this many seconds: 0.00015044212341308594\n",
      "Slacker Netwon: number of iterations is: 6\n",
      "Slacker Netwon: number of Jacobians calculated is: 3\n"
     ]
    }
   ],
   "source": [
    "x0 = np.array([1.,-1.])\n",
    "driver(x0)"
   ]
  },
  {
   "cell_type": "markdown",
   "id": "13e8f651-8adb-4fea-9256-0eada9f61ff0",
   "metadata": {},
   "source": [
    "We see that the performance is overall best for Slacker Newton considering it takes half the number of Jacobians and only one more iterations then Newton to converge. Using Lazy Newton takes quite a few iterations to converge (36), but it does converge for this initial guess, unlike the behavior we saw for part (ii)."
   ]
  },
  {
   "cell_type": "markdown",
   "id": "42b855ba-14b3-42c5-a3ae-6443202f1393",
   "metadata": {},
   "source": [
    "## ( iii )"
   ]
  },
  {
   "cell_type": "code",
   "execution_count": 6,
   "id": "c22f078c-6cdd-49af-9b55-ee1e82d82150",
   "metadata": {},
   "outputs": [
    {
     "ename": "LinAlgError",
     "evalue": "Singular matrix",
     "output_type": "error",
     "traceback": [
      "\u001b[0;31m---------------------------------------------------------------------------\u001b[0m",
      "\u001b[0;31mLinAlgError\u001b[0m                               Traceback (most recent call last)",
      "Input \u001b[0;32mIn [6]\u001b[0m, in \u001b[0;36m<cell line: 2>\u001b[0;34m()\u001b[0m\n\u001b[1;32m      1\u001b[0m x0 \u001b[38;5;241m=\u001b[39m np\u001b[38;5;241m.\u001b[39marray([\u001b[38;5;241m0\u001b[39m,\u001b[38;5;241m0\u001b[39m])\n\u001b[0;32m----> 2\u001b[0m \u001b[43mdriver\u001b[49m\u001b[43m(\u001b[49m\u001b[43mx0\u001b[49m\u001b[43m)\u001b[49m\n",
      "Input \u001b[0;32mIn [3]\u001b[0m, in \u001b[0;36mdriver\u001b[0;34m(x0)\u001b[0m\n\u001b[1;32m      8\u001b[0m t \u001b[38;5;241m=\u001b[39m time\u001b[38;5;241m.\u001b[39mtime()\n\u001b[1;32m     10\u001b[0m \u001b[38;5;28;01mfor\u001b[39;00m j \u001b[38;5;129;01min\u001b[39;00m \u001b[38;5;28mrange\u001b[39m(\u001b[38;5;241m50\u001b[39m):\n\u001b[0;32m---> 11\u001b[0m     [xstar,ier,its, jack] \u001b[38;5;241m=\u001b[39m  \u001b[43mNewton\u001b[49m\u001b[43m(\u001b[49m\u001b[43mx0\u001b[49m\u001b[43m,\u001b[49m\u001b[43mtol\u001b[49m\u001b[43m,\u001b[49m\u001b[43mNmax\u001b[49m\u001b[43m)\u001b[49m\n\u001b[1;32m     13\u001b[0m elapsed \u001b[38;5;241m=\u001b[39m time\u001b[38;5;241m.\u001b[39mtime()\u001b[38;5;241m-\u001b[39mt\n\u001b[1;32m     14\u001b[0m \u001b[38;5;28mprint\u001b[39m(xstar)\n",
      "Input \u001b[0;32mIn [2]\u001b[0m, in \u001b[0;36mNewton\u001b[0;34m(x0, tol, Nmax)\u001b[0m\n\u001b[1;32m     20\u001b[0m \u001b[38;5;28;01mfor\u001b[39;00m its \u001b[38;5;129;01min\u001b[39;00m \u001b[38;5;28mrange\u001b[39m(Nmax):\n\u001b[1;32m     21\u001b[0m     J \u001b[38;5;241m=\u001b[39m evalJ(x0)\n\u001b[0;32m---> 22\u001b[0m     Jinv \u001b[38;5;241m=\u001b[39m \u001b[43minv\u001b[49m\u001b[43m(\u001b[49m\u001b[43mJ\u001b[49m\u001b[43m)\u001b[49m\n\u001b[1;32m     23\u001b[0m     F \u001b[38;5;241m=\u001b[39m evalF(x0)\n\u001b[1;32m     24\u001b[0m     jack \u001b[38;5;241m+\u001b[39m\u001b[38;5;241m=\u001b[39m \u001b[38;5;241m1\u001b[39m\n",
      "File \u001b[0;32m<__array_function__ internals>:5\u001b[0m, in \u001b[0;36minv\u001b[0;34m(*args, **kwargs)\u001b[0m\n",
      "File \u001b[0;32m~/opt/anaconda3/lib/python3.9/site-packages/numpy/linalg/linalg.py:545\u001b[0m, in \u001b[0;36minv\u001b[0;34m(a)\u001b[0m\n\u001b[1;32m    543\u001b[0m signature \u001b[38;5;241m=\u001b[39m \u001b[38;5;124m'\u001b[39m\u001b[38;5;124mD->D\u001b[39m\u001b[38;5;124m'\u001b[39m \u001b[38;5;28;01mif\u001b[39;00m isComplexType(t) \u001b[38;5;28;01melse\u001b[39;00m \u001b[38;5;124m'\u001b[39m\u001b[38;5;124md->d\u001b[39m\u001b[38;5;124m'\u001b[39m\n\u001b[1;32m    544\u001b[0m extobj \u001b[38;5;241m=\u001b[39m get_linalg_error_extobj(_raise_linalgerror_singular)\n\u001b[0;32m--> 545\u001b[0m ainv \u001b[38;5;241m=\u001b[39m \u001b[43m_umath_linalg\u001b[49m\u001b[38;5;241;43m.\u001b[39;49m\u001b[43minv\u001b[49m\u001b[43m(\u001b[49m\u001b[43ma\u001b[49m\u001b[43m,\u001b[49m\u001b[43m \u001b[49m\u001b[43msignature\u001b[49m\u001b[38;5;241;43m=\u001b[39;49m\u001b[43msignature\u001b[49m\u001b[43m,\u001b[49m\u001b[43m \u001b[49m\u001b[43mextobj\u001b[49m\u001b[38;5;241;43m=\u001b[39;49m\u001b[43mextobj\u001b[49m\u001b[43m)\u001b[49m\n\u001b[1;32m    546\u001b[0m \u001b[38;5;28;01mreturn\u001b[39;00m wrap(ainv\u001b[38;5;241m.\u001b[39mastype(result_t, copy\u001b[38;5;241m=\u001b[39m\u001b[38;5;28;01mFalse\u001b[39;00m))\n",
      "File \u001b[0;32m~/opt/anaconda3/lib/python3.9/site-packages/numpy/linalg/linalg.py:88\u001b[0m, in \u001b[0;36m_raise_linalgerror_singular\u001b[0;34m(err, flag)\u001b[0m\n\u001b[1;32m     87\u001b[0m \u001b[38;5;28;01mdef\u001b[39;00m \u001b[38;5;21m_raise_linalgerror_singular\u001b[39m(err, flag):\n\u001b[0;32m---> 88\u001b[0m     \u001b[38;5;28;01mraise\u001b[39;00m LinAlgError(\u001b[38;5;124m\"\u001b[39m\u001b[38;5;124mSingular matrix\u001b[39m\u001b[38;5;124m\"\u001b[39m)\n",
      "\u001b[0;31mLinAlgError\u001b[0m: Singular matrix"
     ]
    }
   ],
   "source": [
    "x0 = np.array([0,0])\n",
    "driver(x0)"
   ]
  },
  {
   "cell_type": "markdown",
   "id": "20810f0b-7b29-420e-a285-feb28ea6d25f",
   "metadata": {},
   "source": [
    "For this initial guess, inverting the Jacobian produces an error since the matrix is singular. Since in all of these methods we must invert the Jacobian at least once, none of them will work."
   ]
  },
  {
   "cell_type": "markdown",
   "id": "33291338-c5d7-4797-8e54-a19a712f00aa",
   "metadata": {},
   "source": [
    "## Problem 2"
   ]
  },
  {
   "cell_type": "code",
   "execution_count": 7,
   "id": "06007a43-b4be-45fd-bbab-e9c2c3856ed4",
   "metadata": {},
   "outputs": [],
   "source": [
    "def evalF(x): \n",
    "\n",
    "    F = np.zeros(3)\n",
    "    \n",
    "    F[0] = x[0] + math.cos(x[0]*x[1]*x[2]) - 1\n",
    "    F[1] = (1-x[0])**(1/4) + x[1] + 0.05*x[2]**2 - 0.15*x[2] - 1\n",
    "    F[2] = -x[0]**2 - 0.1*x[1]**2 + 0.01*x[1] + x[2] - 1\n",
    "    return F\n",
    "\n",
    "def evalJ(x): \n",
    "\n",
    "    J = np.array([[1 - x[1]*x[2]*math.sin(x[0]*x[1]*x[2]), -x[0]*x[2]*math.sin(x[0]*x[1]*x[2]), -x[1]*x[0]*math.sin(x[0]*x[1]*x[2])],\n",
    "    [-(1/4)*(1-x[0])**(-3/4), 1, 2*0.05*x[2] - 0.15],\n",
    "    [-2*x[0], -0.1*2*x[1] + x[1], 1]])\n",
    "    \n",
    "    return J"
   ]
  },
  {
   "cell_type": "code",
   "execution_count": 8,
   "id": "8600b6c4-bc63-483a-9d0c-3094ae14ad0d",
   "metadata": {},
   "outputs": [],
   "source": [
    "def evalg(x):\n",
    "    \n",
    "    F = evalF(x)\n",
    "    g = F[0]**2 + F[1]**2 + F[2]**2\n",
    "    return g\n",
    "\n",
    "def eval_gradg(x):\n",
    "    F = evalF(x)\n",
    "    J = evalJ(x)\n",
    "    gradg = np.transpose(J).dot(F)\n",
    "    return gradg\n",
    "\n",
    "\n",
    "###############################\n",
    "### steepest descent code\n",
    "def SteepestDescent(x,tol,Nmax):\n",
    "    for its in range(Nmax):\n",
    "        g1 = evalg(x)\n",
    "        z = eval_gradg(x)\n",
    "        z0 = norm(z)\n",
    "        \n",
    "        if z0 == 0:\n",
    "            print(\"zero gradient\")\n",
    "        \n",
    "        z = z/z0\n",
    "        alpha1 = 0\n",
    "        alpha3 = 1\n",
    "        dif_vec = x - alpha3*z\n",
    "        g3 = evalg(dif_vec)\n",
    "        \n",
    "        while g3>=g1:\n",
    "            alpha3 = alpha3/2\n",
    "            dif_vec = x - alpha3*z\n",
    "            g3 = evalg(dif_vec)\n",
    "            \n",
    "        if alpha3<tol:\n",
    "            print(\"no likely improvement\")\n",
    "            ier = 0\n",
    "            return [x,g1,ier,its]\n",
    "        \n",
    "        alpha2 = alpha3/2\n",
    "        dif_vec = x - alpha2*z\n",
    "        g2 = evalg(dif_vec)\n",
    "        \n",
    "        h1 = (g2 - g1)/alpha2\n",
    "        h2 = (g3-g2)/(alpha3-alpha2)\n",
    "        h3 = (h2-h1)/alpha3\n",
    "        \n",
    "        alpha0 = 0.5*(alpha2 - h1/h3)\n",
    "        dif_vec = x - alpha0*z\n",
    "        g0 = evalg(dif_vec)\n",
    "        \n",
    "        if g0<=g3:\n",
    "            alpha = alpha0\n",
    "            gval = g0\n",
    "        else:\n",
    "            alpha = alpha3\n",
    "            gval =g3\n",
    "            \n",
    "        x = x - alpha*z\n",
    "        \n",
    "        if abs(gval - g1)<tol:\n",
    "            ier = 0\n",
    "            return [x,gval,ier,its]\n",
    "    print('max iterations exceeded')\n",
    "    ier = 1\n",
    "    return [x,g1,ier,its]"
   ]
  },
  {
   "cell_type": "code",
   "execution_count": 9,
   "id": "71075830-756f-403b-be9a-ff0a3e051347",
   "metadata": {},
   "outputs": [
    {
     "name": "stdout",
     "output_type": "stream",
     "text": [
      "[4.6933652e-17 1.0000000e-01 1.0000000e+00]\n",
      "Newton: the error message reads: 0\n",
      "Newton: took this many seconds: 0.000519862174987793\n",
      "Netwon: number of iterations is: 5\n",
      "Netwon: number of Jacobians calculated is: 6\n",
      "\n",
      "\n",
      "[1.80592789e-04 1.00077506e-01 1.00004188e+00]\n",
      "Steepest Descent: g evaluated at this point is  3.5216710337019676e-08\n",
      "Steepest Descent: the error message reads:  0\n",
      "Steepest Descent: number of iterations is:  5\n",
      "\n",
      "\n",
      "[-4.89973355e-17  1.00000000e-01  1.00000000e+00]\n",
      "Steepest Descent + Newton: the initial guess generated by SD is: [-0.00478685  0.11948979  1.01014575]\n",
      "Steepest Descent + Newton: the error message reads: 0\n",
      "Steepest Descent + Newton: number of iterations in both is: 5\n",
      "Steepest Descent + Newton: number of Jacobians in Newton calculated is: 4\n"
     ]
    }
   ],
   "source": [
    "def driver():\n",
    "    \n",
    "    Nmax = 100\n",
    "    x0= np.array([-1,1,1])\n",
    "    tol = 1e-6\n",
    "    \n",
    "    '''NEWTON'''\n",
    "    \n",
    "    t = time.time()\n",
    "    \n",
    "    for j in range(50):\n",
    "        [xstar,ier,its, jack] =  Newton(x0,tol,Nmax)\n",
    "        \n",
    "    elapsed = time.time()-t\n",
    "    print(xstar)\n",
    "    print('Newton: the error message reads:',ier) \n",
    "    print('Newton: took this many seconds:',elapsed/50)\n",
    "    print('Netwon: number of iterations is:',its)\n",
    "    print('Netwon: number of Jacobians calculated is:',jack)\n",
    "    \n",
    "    print(\"\\n\")\n",
    "    [xstar,gval,ier,its] = SteepestDescent(x0,tol,Nmax)\n",
    "    print(xstar)\n",
    "    print(\"Steepest Descent: g evaluated at this point is \", gval)\n",
    "    print(\"Steepest Descent: the error message reads: \", ier )\n",
    "    print(\"Steepest Descent: number of iterations is: \", its )\n",
    "    \n",
    "    \n",
    "    tol = 5e-2\n",
    "    [xstar2,gval,ier,its2] = SteepestDescent(x0,tol,Nmax)\n",
    "    tol = 1e-6\n",
    "    [xstar,ier,its,jack] =  Newton(xstar2,tol,Nmax)\n",
    "    \n",
    "    \n",
    "    print(\"\\n\")\n",
    "    print(xstar)\n",
    "    print('Steepest Descent + Newton: the initial guess generated by SD is:',xstar2) \n",
    "    print('Steepest Descent + Newton: the error message reads:',ier) \n",
    "    print('Steepest Descent + Newton: number of iterations in both is:',its2+its)\n",
    "    print('Steepest Descent + Newton: number of Jacobians in Newton calculated is:',jack)\n",
    "\n",
    "driver()"
   ]
  },
  {
   "cell_type": "markdown",
   "id": "6888b8ae-ff5d-4d3c-a1e5-ccdae2632928",
   "metadata": {},
   "source": [
    "Using the initial guess [0,0,1], Newton converges the fastest. "
   ]
  },
  {
   "cell_type": "code",
   "execution_count": null,
   "id": "9ee206e8-e832-486f-be82-957fa64eab06",
   "metadata": {},
   "outputs": [],
   "source": []
  }
 ],
 "metadata": {
  "kernelspec": {
   "display_name": "Python 3 (ipykernel)",
   "language": "python",
   "name": "python3"
  },
  "language_info": {
   "codemirror_mode": {
    "name": "ipython",
    "version": 3
   },
   "file_extension": ".py",
   "mimetype": "text/x-python",
   "name": "python",
   "nbconvert_exporter": "python",
   "pygments_lexer": "ipython3",
   "version": "3.9.12"
  }
 },
 "nbformat": 4,
 "nbformat_minor": 5
}
