{
 "cells": [
  {
   "cell_type": "code",
   "execution_count": 1,
   "id": "80b3c682-08a9-4ab8-a64e-e0551416905f",
   "metadata": {},
   "outputs": [],
   "source": [
    "import numpy as np\n",
    "import math\n",
    "from matplotlib import pyplot as plt\n",
    "import numpy.linalg as la\n",
    "from scipy.integrate import quad"
   ]
  },
  {
   "cell_type": "markdown",
   "id": "bb74ffed-94a7-4e7e-8ff1-98a3b6e57e90",
   "metadata": {},
   "source": [
    "# Adaptive Quadrature"
   ]
  },
  {
   "cell_type": "markdown",
   "id": "2330b7a2-51d7-4a9a-9c7a-ac59891dd6ee",
   "metadata": {},
   "source": [
    "## Prelab"
   ]
  },
  {
   "cell_type": "code",
   "execution_count": 2,
   "id": "a25eea61-5b6c-4b4b-85dc-40c2fc28f16d",
   "metadata": {},
   "outputs": [],
   "source": [
    "def CompTrap(a,b,n,f):\n",
    "    \n",
    "    h = (b-a)/n\n",
    "    xnode = a+np.arange(0,n+1)*h\n",
    "    \n",
    "    I_trap = h*f(xnode[0])*1/2\n",
    "    \n",
    "    for j in range(1,n):\n",
    "        I_trap = I_trap+h*f(xnode[j])\n",
    "    I_trap= I_trap + 1/2*h*f(xnode[n])\n",
    "        \n",
    "    return I_trap\n",
    "\n",
    "def CompSimp(a,b,n,f):\n",
    "    \n",
    "    h = (b-a)/n\n",
    "    xnode = a+np.arange(0,n+1)*h\n",
    "    I_simp = f(xnode[0])\n",
    "    nhalf = n/2\n",
    "    \n",
    "    for j in range(1,int(nhalf)+1):\n",
    "        # even part\n",
    "        I_simp = I_simp+2*f(xnode[2*j])\n",
    "        # odd part\n",
    "        I_simp = I_simp +4*f(xnode[2*j-1])\n",
    "    \n",
    "    I_simp= I_simp + f(xnode[n])\n",
    "    I_simp = h/3*I_simp\n",
    "    \n",
    "    return I_simp"
   ]
  },
  {
   "cell_type": "markdown",
   "id": "40d7e80f-c602-4828-85ba-f9b82be2598b",
   "metadata": {},
   "source": [
    "## Code"
   ]
  },
  {
   "cell_type": "code",
   "execution_count": 3,
   "id": "726aad1a-f999-4e48-bcf9-9dfff970e666",
   "metadata": {},
   "outputs": [],
   "source": [
    "# gauss legendre quadrature nodes and weights via\n",
    "# Newton iteration\n",
    "def lgwt(N,a,b):\n",
    "    \"\"\"\n",
    "    This script is for computing definite integrals using Legendre-Gauss\n",
    "    Quadrature. Computes the Legendre-Gauss nodes and weights on an interval\n",
    "    [a,b] with truncation order N\n",
    "    Suppose you have a continuous function f(x) which is defined on [a,b]\n",
    "    which you can evaluate at any x in [a,b]. Simply evaluate it at all of\n",
    "    the values contained in the x vector to obtain a vector f. Then compute\n",
    "    the definite integral using np.sum(f*w)\n",
    "    Written by Greg von Winckel - 02/25/2004\n",
    "    translated to Python - 10/30/2022\n",
    "    \"\"\"\n",
    "    N = N-1\n",
    "    N1 = N+1\n",
    "    N2 = N+2\n",
    "    eps = np.finfo(float).eps\n",
    "    xu = np.linspace(-1,1,N1)\n",
    "    \n",
    "    # Initial guess\n",
    "    y = np.cos((2*np.arange(0,N1)+1)*np.pi/(2*N+2))+(0.27/N1)*np.sin(np.pi*xu*N/N2)\n",
    "    \n",
    "    # Legendre-Gauss Vandermonde Matrix\n",
    "    L = np.zeros((N1,N2))\n",
    "    \n",
    "    # Compute the zeros of the N+1 Legendre Polynomial\n",
    "    # using the recursion relation and the Newton-Raphson method\n",
    "    y0 = 2.\n",
    "    one = np.ones((N1,))\n",
    "    zero = np.zeros((N1,))\n",
    "    \n",
    "    # Iterate until new points are uniformly within epsilon of old points\n",
    "    while np.max(np.abs(y-y0)) > eps:\n",
    "        L[:,0] = one\n",
    "        L[:,1] = y\n",
    "        \n",
    "        for k in range(2,N1+1):\n",
    "            L[:,k] = ((2*k-1)*y*L[:,k-1]-(k-1)*L[:,k-2])/k\n",
    "        \n",
    "        lp = N2*(L[:,N1-1]-y*L[:,N2-1])/(1-y**2)\n",
    "        y0 = y\n",
    "        y = y0-L[:,N2-1]/lp\n",
    "        \n",
    "    # Linear map from[-1,1] to [a,b]\n",
    "    x=(a*(1-y)+b*(1+y))/2\n",
    "    \n",
    "    # Compute the weights\n",
    "    w=(b-a)/((1-y**2)*lp**2)*(N2/N1)**2\n",
    "    \n",
    "    return x,w"
   ]
  },
  {
   "cell_type": "code",
   "execution_count": 4,
   "id": "51257a44-7d60-42ca-bcd5-e496cc9f3112",
   "metadata": {},
   "outputs": [],
   "source": [
    "'''\n",
    "adaptive quad subroutines:\n",
    "the following three can be passed as the method parameter \n",
    "to the main adaptive_quad() function\n",
    "'''\n",
    "    \n",
    "def eval_composite_trap(n,a,b,f):\n",
    "    h = (b-a)/n\n",
    "    xnode = a+np.arange(0,n+1)*h\n",
    "    \n",
    "    I_trap = h*f(xnode[0])*1/2\n",
    "    \n",
    "    for j in range(1,n):\n",
    "        I_trap = I_trap+h*f(xnode[j])\n",
    "    I_trap= I_trap + 1/2*h*f(xnode[n])\n",
    "        \n",
    "    return I_trap, xnode, None\n",
    "    \n",
    "def eval_composite_simpsons(n,a,b,f):\n",
    "    h = (b-a)/n\n",
    "    xnode = a+np.arange(0,n+1)*h\n",
    "    I_simp = f(xnode[0])\n",
    "    nhalf = n/2\n",
    "    \n",
    "    for j in range(1,int(nhalf)+1):\n",
    "        # even part\n",
    "        I_simp = I_simp+2*f(xnode[2*j])\n",
    "        # odd part\n",
    "        I_simp = I_simp +4*f(xnode[2*j-1])\n",
    "    \n",
    "    I_simp= I_simp + f(xnode[n])\n",
    "    I_simp = h/3*I_simp\n",
    "    \n",
    "    return I_simp, xnode, None\n",
    "\n",
    "def eval_gauss_quad(M,a,b,f):\n",
    "    \"\"\"\n",
    "    Non-adaptive numerical integrator for \\int_a^b f(x)w(x)dx\n",
    "    Input:\n",
    "    M - number of quadrature nodes\n",
    "    a,b - interval [a,b]\n",
    "    f - function to integrate\n",
    "    Output:\n",
    "    I_hat - approx integral\n",
    "    x - quadrature nodes\n",
    "    w - quadrature weights\n",
    "    Currently uses Gauss-Legendre rule\n",
    "    \"\"\"\n",
    "    x,w = lgwt(M,a,b)\n",
    "    I_hat = np.sum(f(x)*w)\n",
    "    return I_hat,x,w\n",
    "\n",
    "def adaptive_quad(a,b,f,tol,M,method):\n",
    "    \"\"\"\n",
    "    Adaptive numerical integrator for \\int_a^b f(x)dx\n",
    "    \n",
    "    Input:\n",
    "    a,b - interval [a,b]\n",
    "    f - function to integrate\n",
    "    tol - absolute accuracy goal\n",
    "    M - number of quadrature nodes per bisected interval\n",
    "    method - function handle for integrating on subinterval\n",
    "    - eg) eval_gauss_quad, eval_composite_simpsons etc.\n",
    "    \n",
    "    Output: I - the approximate integral\n",
    "    X - final adapted grid nodes\n",
    "    nsplit - number of interval splits\n",
    "    \"\"\"\n",
    "    # 1/2^50 ~ 1e-15\n",
    "    maxit = 50\n",
    "    left_p = np.zeros((maxit,))\n",
    "    right_p = np.zeros((maxit,))\n",
    "    s = np.zeros((maxit,1))\n",
    "    left_p[0] = a; right_p[0] = b;\n",
    "    \n",
    "    # initial approx and grid\n",
    "    s[0],x,_ = method(M,a,b,f);\n",
    "    \n",
    "    # save grid\n",
    "    X = []\n",
    "    X.append(x)\n",
    "    j = 1;\n",
    "    I = 0;\n",
    "    nsplit = 1;\n",
    "    while j < maxit:\n",
    "        # get midpoint to split interval into left and right\n",
    "        c = 0.5*(left_p[j-1]+right_p[j-1]);\n",
    "        \n",
    "        # compute integral on left and right spilt intervals\n",
    "        s1,x,_ = method(M,left_p[j-1],c,f); X.append(x)\n",
    "        s2,x,_ = method(M,c,right_p[j-1],f); X.append(x)\n",
    "        \n",
    "        if np.max(np.abs(s1+s2-s[j-1])) > tol:\n",
    "            left_p[j] = left_p[j-1]\n",
    "            right_p[j] = 0.5*(left_p[j-1]+right_p[j-1])\n",
    "            s[j] = s1\n",
    "            left_p[j-1] = 0.5*(left_p[j-1]+right_p[j-1])\n",
    "            s[j-1] = s2\n",
    "            j = j+1\n",
    "            nsplit = nsplit+1\n",
    "        else:\n",
    "            I = I+s1+s2\n",
    "            j = j-1\n",
    "            if j == 0:\n",
    "                j = maxit\n",
    "                \n",
    "    return I,np.unique(X),nsplit"
   ]
  },
  {
   "cell_type": "markdown",
   "id": "51019a52-cdcd-4c5a-929c-bbb74ba73808",
   "metadata": {},
   "source": [
    "## test"
   ]
  },
  {
   "cell_type": "code",
   "execution_count": 5,
   "id": "ce77855e-64ac-40aa-bd1d-eebc2f2f5d76",
   "metadata": {},
   "outputs": [],
   "source": [
    "def driver(method):\n",
    "\n",
    "    f = lambda x: np.sin(1./x)\n",
    "    a = 0.1 ;b = 2.\n",
    "    I_true = 1.1455808341\n",
    "    labl = '$\\sin(1/x)$'\n",
    "    tol = 1e-3\n",
    "    eps = np.finfo(float).eps\n",
    "\n",
    "    # number of nodes and weights, per subinterval\n",
    "    Ms = np.arange(2,15); nM = len(Ms)\n",
    "\n",
    "    # storage for error\n",
    "    err_old = np.zeros((nM,))\n",
    "    err_new = np.zeros((nM,))\n",
    "\n",
    "    # loop over quadrature orders\n",
    "    # compute integral with non adaptive and adaptive\n",
    "    # compute errors for both\n",
    "    for iM in range(nM):\n",
    "        M = Ms[iM];\n",
    "        # non adaptive routine\n",
    "        # Note: the _,_ are dummy vars/Python convention\n",
    "        # to store uneeded returns from the routine\n",
    "        I_old,_,_ = method(M,a,b,f)\n",
    "\n",
    "        # adaptive routine\n",
    "        I_new,X,nsplit = adaptive_quad(a,b,f,tol,M,method)\n",
    "        err_old[iM] = np.abs(I_old-I_true)/I_true\n",
    "        err_new[iM] = np.abs(I_new-I_true)/I_true\n",
    "\n",
    "        # clean the error for nice plots\n",
    "        if err_old[iM] < eps:\n",
    "            err_old[iM] = eps\n",
    "        if err_new[iM] < eps:\n",
    "            err_new[iM] = eps\n",
    "\n",
    "        # save grids for M = 2\n",
    "        if M == 2:\n",
    "            mesh = X\n",
    "\n",
    "    # plot the old and new error for each f and M\n",
    "    fig,ax = plt.subplots(1,2)\n",
    "    ax[0].semilogy(Ms,err_old,'ro--')\n",
    "    ax[0].set_ylim([1e-16,2]);\n",
    "    ax[0].set_xlabel('$M$')\n",
    "    ax[0].set_title('Non-adaptive')\n",
    "    ax[0].set_ylabel('Relative Error');\n",
    "    ax[1].semilogy(Ms,err_new,'ro--',label=labl)\n",
    "    ax[1].set_ylim([1e-16,2]);\n",
    "    ax[1].set_xlabel('$M$')\n",
    "    ax[1].set_title('Adaptive')\n",
    "    ax[1].legend()\n",
    "    plt.show()\n",
    "\n",
    "    # plot the adaptive mesh for M=2\n",
    "    fig,ax = plt.subplots(1,1)\n",
    "    ax.semilogy(mesh,f(mesh),'ro',label=labl)\n",
    "    ax.legend()\n",
    "    plt.show()"
   ]
  },
  {
   "cell_type": "code",
   "execution_count": 6,
   "id": "f68d9f1f-b8d3-4253-9924-94df4d741249",
   "metadata": {},
   "outputs": [
    {
     "data": {
      "image/png": "[encoded data removed]",
      "text/plain": [
       "<Figure size 432x288 with 2 Axes>"
      ]
     },
     "metadata": {
      "needs_background": "light"
     },
     "output_type": "display_data"
    },
    {
     "data": {
      "image/png": "[encoded data removed]",
      "text/plain": [
       "<Figure size 432x288 with 1 Axes>"
      ]
     },
     "metadata": {
      "needs_background": "light"
     },
     "output_type": "display_data"
    }
   ],
   "source": [
    "driver(eval_gauss_quad)"
   ]
  },
  {
   "cell_type": "code",
   "execution_count": 7,
   "id": "e12cbb09-aa41-4b9f-9ca5-9426ad322c4c",
   "metadata": {},
   "outputs": [
    {
     "data": {
      "image/png": "[encoded data removed]",
      "text/plain": [
       "<Figure size 432x288 with 2 Axes>"
      ]
     },
     "metadata": {
      "needs_background": "light"
     },
     "output_type": "display_data"
    },
    {
     "data": {
      "image/png": "[encoded data removed]",
      "text/plain": [
       "<Figure size 432x288 with 1 Axes>"
      ]
     },
     "metadata": {
      "needs_background": "light"
     },
     "output_type": "display_data"
    }
   ],
   "source": [
    "driver(eval_composite_simpsons)"
   ]
  },
  {
   "cell_type": "code",
   "execution_count": 8,
   "id": "14e871be-9af7-4044-b3f5-1bcdf1914d78",
   "metadata": {},
   "outputs": [
    {
     "data": {
      "image/png": "[encoded data removed]",
      "text/plain": [
       "<Figure size 432x288 with 2 Axes>"
      ]
     },
     "metadata": {
      "needs_background": "light"
     },
     "output_type": "display_data"
    },
    {
     "data": {
      "image/png": "[encoded data removed]",
      "text/plain": [
       "<Figure size 432x288 with 1 Axes>"
      ]
     },
     "metadata": {
      "needs_background": "light"
     },
     "output_type": "display_data"
    }
   ],
   "source": [
    "driver(eval_composite_trap)"
   ]
  },
  {
   "cell_type": "markdown",
   "id": "69d862d2-1ac6-4266-b0fd-11e08dda4d1d",
   "metadata": {},
   "source": [
    "### Gaussian quad is the best method for this function!!"
   ]
  }
 ],
 "metadata": {
  "kernelspec": {
   "display_name": "Python 3 (ipykernel)",
   "language": "python",
   "name": "python3"
  },
  "language_info": {
   "codemirror_mode": {
    "name": "ipython",
    "version": 3
   },
   "file_extension": ".py",
   "mimetype": "text/x-python",
   "name": "python",
   "nbconvert_exporter": "python",
   "pygments_lexer": "ipython3",
   "version": "3.9.12"
  }
 },
 "nbformat": 4,
 "nbformat_minor": 5
}
