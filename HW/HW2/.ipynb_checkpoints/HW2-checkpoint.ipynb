{
 "cells": [
  {
   "cell_type": "code",
   "execution_count": 2,
   "id": "79410be0-eb59-4a8e-ba36-c912710fb84c",
   "metadata": {},
   "outputs": [],
   "source": [
    "import numpy as np\n",
    "import math"
   ]
  },
  {
   "cell_type": "code",
   "execution_count": 12,
   "id": "7a662e60-02ed-440c-ae4d-a4abc250f5f0",
   "metadata": {},
   "outputs": [],
   "source": [
    "t = np.array(np.arange(0, math.pi, math.pi/30))\n",
    "y = np.cos(t)"
   ]
  },
  {
   "cell_type": "code",
   "execution_count": 20,
   "id": "5c60f330-33b6-4ac6-ba64-da7e968ec4a1",
   "metadata": {},
   "outputs": [],
   "source": [
    "def fourA(t, y, N):\n",
    "    S = 0\n",
    "    for k in range(N):\n",
    "        S += t[k]*y[k]\n",
    "    print(\"The sum is:\", S)\n",
    "    return S"
   ]
  },
  {
   "cell_type": "code",
   "execution_count": 21,
   "id": "751397ef-88ff-4060-a2e9-df2f2a0b0495",
   "metadata": {},
   "outputs": [
    {
     "name": "stdout",
     "output_type": "stream",
     "text": [
      "The sum is: 0.9904570867177573\n"
     ]
    }
   ],
   "source": [
    "a = fourA(t, y, 5)"
   ]
  },
  {
   "cell_type": "code",
   "execution_count": null,
   "id": "ee00973b-0d5a-44d6-b06d-bebd7f633a1a",
   "metadata": {},
   "outputs": [],
   "source": []
  }
 ],
 "metadata": {
  "kernelspec": {
   "display_name": "Python 3 (ipykernel)",
   "language": "python",
   "name": "python3"
  },
  "language_info": {
   "codemirror_mode": {
    "name": "ipython",
    "version": 3
   },
   "file_extension": ".py",
   "mimetype": "text/x-python",
   "name": "python",
   "nbconvert_exporter": "python",
   "pygments_lexer": "ipython3",
   "version": "3.9.12"
  }
 },
 "nbformat": 4,
 "nbformat_minor": 5
}
